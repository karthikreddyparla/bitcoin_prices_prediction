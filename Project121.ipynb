{
 "cells": [
  {
   "cell_type": "markdown",
   "metadata": {},
   "source": [
    "### Project 1\n",
    "\n",
    "Project description: \n",
    "- Read data into Jupyter notebook, use pandas to import data into a data frame\n",
    "- preprocess data: explore data, address missing data, categorical data, if there is any, and data scaling. Justify the type of scaling used in this project. \n",
    "- train your dataset using all the linear regression models you've learned so far. If your model has a scaling parameter(s) use Grid Search to find the best scaling parameter. Use plots and graphs to help you get a better glimpse of the results. \n",
    "- Then use cross validation to find average training and testing score. \n",
    "- Your submission should have at least the following regression models: KNN repressor, linear regression, Ridge, Lasso, polynomial regression, SVM both simple and with kernels. \n",
    "- Finally find the best repressor for this dataset and train your model on the entire dataset using the best parameters and predict the market price for the test_set.\n",
    "- submit IPython notebook. Use markdown to provide an inline report for this project."
   ]
  },
  {
   "cell_type": "markdown",
   "metadata": {},
   "source": [
    "Reading the data from csv files"
   ]
  },
  {
   "cell_type": "code",
   "execution_count": 50,
   "metadata": {
    "collapsed": true
   },
   "outputs": [],
   "source": [
    "import pandas as pd\n",
    "import numpy as np\n",
    "data = pd.read_csv('bitcoin_dataset.csv', parse_dates=['Date'])\n",
    "test = pd.read_csv('test_set.csv')"
   ]
  },
  {
   "cell_type": "markdown",
   "metadata": {},
   "source": [
    "Observing the first few rows of the dataset"
   ]
  },
  {
   "cell_type": "code",
   "execution_count": 5,
   "metadata": {},
   "outputs": [
    {
     "data": {
      "text/html": [
       "<div>\n",
       "<style>\n",
       "    .dataframe thead tr:only-child th {\n",
       "        text-align: right;\n",
       "    }\n",
       "\n",
       "    .dataframe thead th {\n",
       "        text-align: left;\n",
       "    }\n",
       "\n",
       "    .dataframe tbody tr th {\n",
       "        vertical-align: top;\n",
       "    }\n",
       "</style>\n",
       "<table border=\"1\" class=\"dataframe\">\n",
       "  <thead>\n",
       "    <tr style=\"text-align: right;\">\n",
       "      <th></th>\n",
       "      <th>Date</th>\n",
       "      <th>btc_market_price</th>\n",
       "      <th>btc_total_bitcoins</th>\n",
       "      <th>btc_market_cap</th>\n",
       "      <th>btc_trade_volume</th>\n",
       "      <th>btc_blocks_size</th>\n",
       "      <th>btc_avg_block_size</th>\n",
       "      <th>btc_n_orphaned_blocks</th>\n",
       "      <th>btc_n_transactions_per_block</th>\n",
       "      <th>btc_median_confirmation_time</th>\n",
       "      <th>...</th>\n",
       "      <th>btc_cost_per_transaction_percent</th>\n",
       "      <th>btc_cost_per_transaction</th>\n",
       "      <th>btc_n_unique_addresses</th>\n",
       "      <th>btc_n_transactions</th>\n",
       "      <th>btc_n_transactions_total</th>\n",
       "      <th>btc_n_transactions_excluding_popular</th>\n",
       "      <th>btc_n_transactions_excluding_chains_longer_than_100</th>\n",
       "      <th>btc_output_volume</th>\n",
       "      <th>btc_estimated_transaction_volume</th>\n",
       "      <th>btc_estimated_transaction_volume_usd</th>\n",
       "    </tr>\n",
       "  </thead>\n",
       "  <tbody>\n",
       "    <tr>\n",
       "      <th>0</th>\n",
       "      <td>2010-02-17</td>\n",
       "      <td>0.0</td>\n",
       "      <td>2043200.0</td>\n",
       "      <td>0.0</td>\n",
       "      <td>0.0</td>\n",
       "      <td>0.0</td>\n",
       "      <td>0.000235</td>\n",
       "      <td>0</td>\n",
       "      <td>1.0</td>\n",
       "      <td>0.0</td>\n",
       "      <td>...</td>\n",
       "      <td>31.781022</td>\n",
       "      <td>0.0</td>\n",
       "      <td>241</td>\n",
       "      <td>244</td>\n",
       "      <td>41240</td>\n",
       "      <td>244</td>\n",
       "      <td>244</td>\n",
       "      <td>65173.13</td>\n",
       "      <td>36500.0</td>\n",
       "      <td>0.0</td>\n",
       "    </tr>\n",
       "    <tr>\n",
       "      <th>1</th>\n",
       "      <td>2010-02-18</td>\n",
       "      <td>0.0</td>\n",
       "      <td>2054650.0</td>\n",
       "      <td>0.0</td>\n",
       "      <td>0.0</td>\n",
       "      <td>0.0</td>\n",
       "      <td>0.000241</td>\n",
       "      <td>0</td>\n",
       "      <td>1.0</td>\n",
       "      <td>0.0</td>\n",
       "      <td>...</td>\n",
       "      <td>154.463801</td>\n",
       "      <td>0.0</td>\n",
       "      <td>234</td>\n",
       "      <td>235</td>\n",
       "      <td>41475</td>\n",
       "      <td>235</td>\n",
       "      <td>235</td>\n",
       "      <td>18911.74</td>\n",
       "      <td>7413.0</td>\n",
       "      <td>0.0</td>\n",
       "    </tr>\n",
       "    <tr>\n",
       "      <th>2</th>\n",
       "      <td>2010-02-19</td>\n",
       "      <td>0.0</td>\n",
       "      <td>2063600.0</td>\n",
       "      <td>0.0</td>\n",
       "      <td>0.0</td>\n",
       "      <td>0.0</td>\n",
       "      <td>0.000228</td>\n",
       "      <td>0</td>\n",
       "      <td>1.0</td>\n",
       "      <td>0.0</td>\n",
       "      <td>...</td>\n",
       "      <td>1278.516635</td>\n",
       "      <td>0.0</td>\n",
       "      <td>185</td>\n",
       "      <td>183</td>\n",
       "      <td>41658</td>\n",
       "      <td>183</td>\n",
       "      <td>183</td>\n",
       "      <td>9749.98</td>\n",
       "      <td>700.0</td>\n",
       "      <td>0.0</td>\n",
       "    </tr>\n",
       "    <tr>\n",
       "      <th>3</th>\n",
       "      <td>2010-02-20</td>\n",
       "      <td>0.0</td>\n",
       "      <td>2074700.0</td>\n",
       "      <td>0.0</td>\n",
       "      <td>0.0</td>\n",
       "      <td>0.0</td>\n",
       "      <td>0.000218</td>\n",
       "      <td>0</td>\n",
       "      <td>1.0</td>\n",
       "      <td>0.0</td>\n",
       "      <td>...</td>\n",
       "      <td>22186.687990</td>\n",
       "      <td>0.0</td>\n",
       "      <td>224</td>\n",
       "      <td>224</td>\n",
       "      <td>41882</td>\n",
       "      <td>224</td>\n",
       "      <td>224</td>\n",
       "      <td>11150.03</td>\n",
       "      <td>50.0</td>\n",
       "      <td>0.0</td>\n",
       "    </tr>\n",
       "    <tr>\n",
       "      <th>4</th>\n",
       "      <td>2010-02-21</td>\n",
       "      <td>0.0</td>\n",
       "      <td>2085400.0</td>\n",
       "      <td>0.0</td>\n",
       "      <td>0.0</td>\n",
       "      <td>0.0</td>\n",
       "      <td>0.000234</td>\n",
       "      <td>0</td>\n",
       "      <td>1.0</td>\n",
       "      <td>0.0</td>\n",
       "      <td>...</td>\n",
       "      <td>689.179876</td>\n",
       "      <td>0.0</td>\n",
       "      <td>218</td>\n",
       "      <td>218</td>\n",
       "      <td>42100</td>\n",
       "      <td>218</td>\n",
       "      <td>218</td>\n",
       "      <td>12266.83</td>\n",
       "      <td>1553.0</td>\n",
       "      <td>0.0</td>\n",
       "    </tr>\n",
       "  </tbody>\n",
       "</table>\n",
       "<p>5 rows × 24 columns</p>\n",
       "</div>"
      ],
      "text/plain": [
       "        Date  btc_market_price  btc_total_bitcoins  btc_market_cap  \\\n",
       "0 2010-02-17               0.0           2043200.0             0.0   \n",
       "1 2010-02-18               0.0           2054650.0             0.0   \n",
       "2 2010-02-19               0.0           2063600.0             0.0   \n",
       "3 2010-02-20               0.0           2074700.0             0.0   \n",
       "4 2010-02-21               0.0           2085400.0             0.0   \n",
       "\n",
       "   btc_trade_volume  btc_blocks_size  btc_avg_block_size  \\\n",
       "0               0.0              0.0            0.000235   \n",
       "1               0.0              0.0            0.000241   \n",
       "2               0.0              0.0            0.000228   \n",
       "3               0.0              0.0            0.000218   \n",
       "4               0.0              0.0            0.000234   \n",
       "\n",
       "   btc_n_orphaned_blocks  btc_n_transactions_per_block  \\\n",
       "0                      0                           1.0   \n",
       "1                      0                           1.0   \n",
       "2                      0                           1.0   \n",
       "3                      0                           1.0   \n",
       "4                      0                           1.0   \n",
       "\n",
       "   btc_median_confirmation_time                  ...                   \\\n",
       "0                           0.0                  ...                    \n",
       "1                           0.0                  ...                    \n",
       "2                           0.0                  ...                    \n",
       "3                           0.0                  ...                    \n",
       "4                           0.0                  ...                    \n",
       "\n",
       "   btc_cost_per_transaction_percent  btc_cost_per_transaction  \\\n",
       "0                         31.781022                       0.0   \n",
       "1                        154.463801                       0.0   \n",
       "2                       1278.516635                       0.0   \n",
       "3                      22186.687990                       0.0   \n",
       "4                        689.179876                       0.0   \n",
       "\n",
       "   btc_n_unique_addresses  btc_n_transactions  btc_n_transactions_total  \\\n",
       "0                     241                 244                     41240   \n",
       "1                     234                 235                     41475   \n",
       "2                     185                 183                     41658   \n",
       "3                     224                 224                     41882   \n",
       "4                     218                 218                     42100   \n",
       "\n",
       "   btc_n_transactions_excluding_popular  \\\n",
       "0                                   244   \n",
       "1                                   235   \n",
       "2                                   183   \n",
       "3                                   224   \n",
       "4                                   218   \n",
       "\n",
       "   btc_n_transactions_excluding_chains_longer_than_100  btc_output_volume  \\\n",
       "0                                                244             65173.13   \n",
       "1                                                235             18911.74   \n",
       "2                                                183              9749.98   \n",
       "3                                                224             11150.03   \n",
       "4                                                218             12266.83   \n",
       "\n",
       "   btc_estimated_transaction_volume  btc_estimated_transaction_volume_usd  \n",
       "0                           36500.0                                   0.0  \n",
       "1                            7413.0                                   0.0  \n",
       "2                             700.0                                   0.0  \n",
       "3                              50.0                                   0.0  \n",
       "4                            1553.0                                   0.0  \n",
       "\n",
       "[5 rows x 24 columns]"
      ]
     },
     "execution_count": 5,
     "metadata": {},
     "output_type": "execute_result"
    }
   ],
   "source": [
    "data.head()"
   ]
  },
  {
   "cell_type": "markdown",
   "metadata": {},
   "source": [
    "### Data Imputation"
   ]
  },
  {
   "cell_type": "markdown",
   "metadata": {},
   "source": [
    "Adding year and month column to the dataset that helps in imputing the dataset"
   ]
  },
  {
   "cell_type": "code",
   "execution_count": 6,
   "metadata": {},
   "outputs": [
    {
     "data": {
      "text/html": [
       "<div>\n",
       "<style>\n",
       "    .dataframe thead tr:only-child th {\n",
       "        text-align: right;\n",
       "    }\n",
       "\n",
       "    .dataframe thead th {\n",
       "        text-align: left;\n",
       "    }\n",
       "\n",
       "    .dataframe tbody tr th {\n",
       "        vertical-align: top;\n",
       "    }\n",
       "</style>\n",
       "<table border=\"1\" class=\"dataframe\">\n",
       "  <thead>\n",
       "    <tr style=\"text-align: right;\">\n",
       "      <th></th>\n",
       "      <th>Date</th>\n",
       "      <th>btc_market_price</th>\n",
       "      <th>btc_total_bitcoins</th>\n",
       "      <th>btc_market_cap</th>\n",
       "      <th>btc_trade_volume</th>\n",
       "      <th>btc_blocks_size</th>\n",
       "      <th>btc_avg_block_size</th>\n",
       "      <th>btc_n_orphaned_blocks</th>\n",
       "      <th>btc_n_transactions_per_block</th>\n",
       "      <th>btc_median_confirmation_time</th>\n",
       "      <th>...</th>\n",
       "      <th>btc_n_unique_addresses</th>\n",
       "      <th>btc_n_transactions</th>\n",
       "      <th>btc_n_transactions_total</th>\n",
       "      <th>btc_n_transactions_excluding_popular</th>\n",
       "      <th>btc_n_transactions_excluding_chains_longer_than_100</th>\n",
       "      <th>btc_output_volume</th>\n",
       "      <th>btc_estimated_transaction_volume</th>\n",
       "      <th>btc_estimated_transaction_volume_usd</th>\n",
       "      <th>Year</th>\n",
       "      <th>Month</th>\n",
       "    </tr>\n",
       "  </thead>\n",
       "  <tbody>\n",
       "    <tr>\n",
       "      <th>0</th>\n",
       "      <td>2010-02-17</td>\n",
       "      <td>0.0</td>\n",
       "      <td>2043200.0</td>\n",
       "      <td>0.0</td>\n",
       "      <td>0.0</td>\n",
       "      <td>0.0</td>\n",
       "      <td>0.000235</td>\n",
       "      <td>0</td>\n",
       "      <td>1.0</td>\n",
       "      <td>0.0</td>\n",
       "      <td>...</td>\n",
       "      <td>241</td>\n",
       "      <td>244</td>\n",
       "      <td>41240</td>\n",
       "      <td>244</td>\n",
       "      <td>244</td>\n",
       "      <td>65173.13</td>\n",
       "      <td>36500.0</td>\n",
       "      <td>0.0</td>\n",
       "      <td>2010</td>\n",
       "      <td>2</td>\n",
       "    </tr>\n",
       "    <tr>\n",
       "      <th>1</th>\n",
       "      <td>2010-02-18</td>\n",
       "      <td>0.0</td>\n",
       "      <td>2054650.0</td>\n",
       "      <td>0.0</td>\n",
       "      <td>0.0</td>\n",
       "      <td>0.0</td>\n",
       "      <td>0.000241</td>\n",
       "      <td>0</td>\n",
       "      <td>1.0</td>\n",
       "      <td>0.0</td>\n",
       "      <td>...</td>\n",
       "      <td>234</td>\n",
       "      <td>235</td>\n",
       "      <td>41475</td>\n",
       "      <td>235</td>\n",
       "      <td>235</td>\n",
       "      <td>18911.74</td>\n",
       "      <td>7413.0</td>\n",
       "      <td>0.0</td>\n",
       "      <td>2010</td>\n",
       "      <td>2</td>\n",
       "    </tr>\n",
       "    <tr>\n",
       "      <th>2</th>\n",
       "      <td>2010-02-19</td>\n",
       "      <td>0.0</td>\n",
       "      <td>2063600.0</td>\n",
       "      <td>0.0</td>\n",
       "      <td>0.0</td>\n",
       "      <td>0.0</td>\n",
       "      <td>0.000228</td>\n",
       "      <td>0</td>\n",
       "      <td>1.0</td>\n",
       "      <td>0.0</td>\n",
       "      <td>...</td>\n",
       "      <td>185</td>\n",
       "      <td>183</td>\n",
       "      <td>41658</td>\n",
       "      <td>183</td>\n",
       "      <td>183</td>\n",
       "      <td>9749.98</td>\n",
       "      <td>700.0</td>\n",
       "      <td>0.0</td>\n",
       "      <td>2010</td>\n",
       "      <td>2</td>\n",
       "    </tr>\n",
       "  </tbody>\n",
       "</table>\n",
       "<p>3 rows × 26 columns</p>\n",
       "</div>"
      ],
      "text/plain": [
       "        Date  btc_market_price  btc_total_bitcoins  btc_market_cap  \\\n",
       "0 2010-02-17               0.0           2043200.0             0.0   \n",
       "1 2010-02-18               0.0           2054650.0             0.0   \n",
       "2 2010-02-19               0.0           2063600.0             0.0   \n",
       "\n",
       "   btc_trade_volume  btc_blocks_size  btc_avg_block_size  \\\n",
       "0               0.0              0.0            0.000235   \n",
       "1               0.0              0.0            0.000241   \n",
       "2               0.0              0.0            0.000228   \n",
       "\n",
       "   btc_n_orphaned_blocks  btc_n_transactions_per_block  \\\n",
       "0                      0                           1.0   \n",
       "1                      0                           1.0   \n",
       "2                      0                           1.0   \n",
       "\n",
       "   btc_median_confirmation_time  ...    btc_n_unique_addresses  \\\n",
       "0                           0.0  ...                       241   \n",
       "1                           0.0  ...                       234   \n",
       "2                           0.0  ...                       185   \n",
       "\n",
       "   btc_n_transactions  btc_n_transactions_total  \\\n",
       "0                 244                     41240   \n",
       "1                 235                     41475   \n",
       "2                 183                     41658   \n",
       "\n",
       "   btc_n_transactions_excluding_popular  \\\n",
       "0                                   244   \n",
       "1                                   235   \n",
       "2                                   183   \n",
       "\n",
       "   btc_n_transactions_excluding_chains_longer_than_100  btc_output_volume  \\\n",
       "0                                                244             65173.13   \n",
       "1                                                235             18911.74   \n",
       "2                                                183              9749.98   \n",
       "\n",
       "   btc_estimated_transaction_volume  btc_estimated_transaction_volume_usd  \\\n",
       "0                           36500.0                                   0.0   \n",
       "1                            7413.0                                   0.0   \n",
       "2                             700.0                                   0.0   \n",
       "\n",
       "   Year  Month  \n",
       "0  2010      2  \n",
       "1  2010      2  \n",
       "2  2010      2  \n",
       "\n",
       "[3 rows x 26 columns]"
      ]
     },
     "execution_count": 6,
     "metadata": {},
     "output_type": "execute_result"
    }
   ],
   "source": [
    "data['Year'] = data['Date'].apply(lambda x: x.year)\n",
    "data['Month'] = data['Date'].apply(lambda x: x.month)\n",
    "data.head(3)\n"
   ]
  },
  {
   "cell_type": "markdown",
   "metadata": {},
   "source": [
    "Grouping the data by year and month to aggregate the means"
   ]
  },
  {
   "cell_type": "code",
   "execution_count": 7,
   "metadata": {},
   "outputs": [
    {
     "data": {
      "text/plain": [
       "<pandas.core.groupby.DataFrameGroupBy object at 0x10e3439b0>"
      ]
     },
     "execution_count": 7,
     "metadata": {},
     "output_type": "execute_result"
    }
   ],
   "source": [
    "data_group = data.groupby(['Year','Month'])\n",
    "data_group"
   ]
  },
  {
   "cell_type": "markdown",
   "metadata": {},
   "source": [
    "Transforming the dataset by filling the null values by the aggregated mean values"
   ]
  },
  {
   "cell_type": "code",
   "execution_count": 8,
   "metadata": {
    "collapsed": true
   },
   "outputs": [],
   "source": [
    "data_imputed = data_group.transform(lambda  grp: grp.fillna(grp.mean()))\n",
    "data_imputed2 = data_group.transform(lambda  grp: grp.fillna(grp.mean()))"
   ]
  },
  {
   "cell_type": "code",
   "execution_count": 9,
   "metadata": {},
   "outputs": [],
   "source": [
    "data_imputed[data_imputed['btc_blocks_size'].isnull()]\n",
    "cols = data_imputed.columns.values\n",
    "\n",
    "cols=np.delete(cols,0)\n",
    "cols\n",
    "data_imputed1=data_imputed"
   ]
  },
  {
   "cell_type": "markdown",
   "metadata": {},
   "source": [
    "### Scaling"
   ]
  },
  {
   "cell_type": "markdown",
   "metadata": {},
   "source": [
    "We are using minmax scaling to scale the x values"
   ]
  },
  {
   "cell_type": "code",
   "execution_count": 10,
   "metadata": {},
   "outputs": [],
   "source": [
    "from sklearn.preprocessing import MinMaxScaler\n",
    "scaler = MinMaxScaler()\n",
    "data_imputed1[cols] = scaler.fit_transform(data_imputed[cols])"
   ]
  },
  {
   "cell_type": "code",
   "execution_count": 11,
   "metadata": {},
   "outputs": [
    {
     "data": {
      "text/html": [
       "<div>\n",
       "<style>\n",
       "    .dataframe thead tr:only-child th {\n",
       "        text-align: right;\n",
       "    }\n",
       "\n",
       "    .dataframe thead th {\n",
       "        text-align: left;\n",
       "    }\n",
       "\n",
       "    .dataframe tbody tr th {\n",
       "        vertical-align: top;\n",
       "    }\n",
       "</style>\n",
       "<table border=\"1\" class=\"dataframe\">\n",
       "  <thead>\n",
       "    <tr style=\"text-align: right;\">\n",
       "      <th></th>\n",
       "      <th>btc_market_price</th>\n",
       "      <th>btc_total_bitcoins</th>\n",
       "      <th>btc_market_cap</th>\n",
       "      <th>btc_trade_volume</th>\n",
       "      <th>btc_blocks_size</th>\n",
       "      <th>btc_avg_block_size</th>\n",
       "      <th>btc_n_orphaned_blocks</th>\n",
       "      <th>btc_n_transactions_per_block</th>\n",
       "      <th>btc_median_confirmation_time</th>\n",
       "      <th>btc_hash_rate</th>\n",
       "      <th>...</th>\n",
       "      <th>btc_cost_per_transaction_percent</th>\n",
       "      <th>btc_cost_per_transaction</th>\n",
       "      <th>btc_n_unique_addresses</th>\n",
       "      <th>btc_n_transactions</th>\n",
       "      <th>btc_n_transactions_total</th>\n",
       "      <th>btc_n_transactions_excluding_popular</th>\n",
       "      <th>btc_n_transactions_excluding_chains_longer_than_100</th>\n",
       "      <th>btc_output_volume</th>\n",
       "      <th>btc_estimated_transaction_volume</th>\n",
       "      <th>btc_estimated_transaction_volume_usd</th>\n",
       "    </tr>\n",
       "  </thead>\n",
       "  <tbody>\n",
       "    <tr>\n",
       "      <th>0</th>\n",
       "      <td>0.0</td>\n",
       "      <td>0.000000</td>\n",
       "      <td>0.0</td>\n",
       "      <td>0.0</td>\n",
       "      <td>0.0</td>\n",
       "      <td>0.000017</td>\n",
       "      <td>0.0</td>\n",
       "      <td>0.0</td>\n",
       "      <td>0.0</td>\n",
       "      <td>3.100453e-13</td>\n",
       "      <td>...</td>\n",
       "      <td>0.000357</td>\n",
       "      <td>0.0</td>\n",
       "      <td>0.000122</td>\n",
       "      <td>0.000257</td>\n",
       "      <td>0.000000e+00</td>\n",
       "      <td>0.000268</td>\n",
       "      <td>0.000395</td>\n",
       "      <td>0.001284</td>\n",
       "      <td>0.006265</td>\n",
       "      <td>0.0</td>\n",
       "    </tr>\n",
       "    <tr>\n",
       "      <th>1</th>\n",
       "      <td>0.0</td>\n",
       "      <td>0.000774</td>\n",
       "      <td>0.0</td>\n",
       "      <td>0.0</td>\n",
       "      <td>0.0</td>\n",
       "      <td>0.000022</td>\n",
       "      <td>0.0</td>\n",
       "      <td>0.0</td>\n",
       "      <td>0.0</td>\n",
       "      <td>2.915351e-13</td>\n",
       "      <td>...</td>\n",
       "      <td>0.001742</td>\n",
       "      <td>0.0</td>\n",
       "      <td>0.000116</td>\n",
       "      <td>0.000239</td>\n",
       "      <td>7.921859e-07</td>\n",
       "      <td>0.000249</td>\n",
       "      <td>0.000367</td>\n",
       "      <td>0.000278</td>\n",
       "      <td>0.001271</td>\n",
       "      <td>0.0</td>\n",
       "    </tr>\n",
       "    <tr>\n",
       "      <th>2</th>\n",
       "      <td>0.0</td>\n",
       "      <td>0.001379</td>\n",
       "      <td>0.0</td>\n",
       "      <td>0.0</td>\n",
       "      <td>0.0</td>\n",
       "      <td>0.000010</td>\n",
       "      <td>0.0</td>\n",
       "      <td>0.0</td>\n",
       "      <td>0.0</td>\n",
       "      <td>0.000000e+00</td>\n",
       "      <td>...</td>\n",
       "      <td>0.014433</td>\n",
       "      <td>0.0</td>\n",
       "      <td>0.000070</td>\n",
       "      <td>0.000133</td>\n",
       "      <td>1.409080e-06</td>\n",
       "      <td>0.000138</td>\n",
       "      <td>0.000204</td>\n",
       "      <td>0.000078</td>\n",
       "      <td>0.000119</td>\n",
       "      <td>0.0</td>\n",
       "    </tr>\n",
       "    <tr>\n",
       "      <th>3</th>\n",
       "      <td>0.0</td>\n",
       "      <td>0.002129</td>\n",
       "      <td>0.0</td>\n",
       "      <td>0.0</td>\n",
       "      <td>0.0</td>\n",
       "      <td>0.000002</td>\n",
       "      <td>0.0</td>\n",
       "      <td>0.0</td>\n",
       "      <td>0.0</td>\n",
       "      <td>2.498873e-13</td>\n",
       "      <td>...</td>\n",
       "      <td>0.250494</td>\n",
       "      <td>0.0</td>\n",
       "      <td>0.000106</td>\n",
       "      <td>0.000216</td>\n",
       "      <td>2.164184e-06</td>\n",
       "      <td>0.000225</td>\n",
       "      <td>0.000333</td>\n",
       "      <td>0.000109</td>\n",
       "      <td>0.000007</td>\n",
       "      <td>0.0</td>\n",
       "    </tr>\n",
       "    <tr>\n",
       "      <th>4</th>\n",
       "      <td>0.0</td>\n",
       "      <td>0.002852</td>\n",
       "      <td>0.0</td>\n",
       "      <td>0.0</td>\n",
       "      <td>0.0</td>\n",
       "      <td>0.000016</td>\n",
       "      <td>0.0</td>\n",
       "      <td>0.0</td>\n",
       "      <td>0.0</td>\n",
       "      <td>2.036118e-13</td>\n",
       "      <td>...</td>\n",
       "      <td>0.007780</td>\n",
       "      <td>0.0</td>\n",
       "      <td>0.000101</td>\n",
       "      <td>0.000204</td>\n",
       "      <td>2.899063e-06</td>\n",
       "      <td>0.000213</td>\n",
       "      <td>0.000314</td>\n",
       "      <td>0.000133</td>\n",
       "      <td>0.000265</td>\n",
       "      <td>0.0</td>\n",
       "    </tr>\n",
       "  </tbody>\n",
       "</table>\n",
       "<p>5 rows × 23 columns</p>\n",
       "</div>"
      ],
      "text/plain": [
       "   btc_market_price  btc_total_bitcoins  btc_market_cap  btc_trade_volume  \\\n",
       "0               0.0            0.000000             0.0               0.0   \n",
       "1               0.0            0.000774             0.0               0.0   \n",
       "2               0.0            0.001379             0.0               0.0   \n",
       "3               0.0            0.002129             0.0               0.0   \n",
       "4               0.0            0.002852             0.0               0.0   \n",
       "\n",
       "   btc_blocks_size  btc_avg_block_size  btc_n_orphaned_blocks  \\\n",
       "0              0.0            0.000017                    0.0   \n",
       "1              0.0            0.000022                    0.0   \n",
       "2              0.0            0.000010                    0.0   \n",
       "3              0.0            0.000002                    0.0   \n",
       "4              0.0            0.000016                    0.0   \n",
       "\n",
       "   btc_n_transactions_per_block  btc_median_confirmation_time  btc_hash_rate  \\\n",
       "0                           0.0                           0.0   3.100453e-13   \n",
       "1                           0.0                           0.0   2.915351e-13   \n",
       "2                           0.0                           0.0   0.000000e+00   \n",
       "3                           0.0                           0.0   2.498873e-13   \n",
       "4                           0.0                           0.0   2.036118e-13   \n",
       "\n",
       "                   ...                   btc_cost_per_transaction_percent  \\\n",
       "0                  ...                                           0.000357   \n",
       "1                  ...                                           0.001742   \n",
       "2                  ...                                           0.014433   \n",
       "3                  ...                                           0.250494   \n",
       "4                  ...                                           0.007780   \n",
       "\n",
       "   btc_cost_per_transaction  btc_n_unique_addresses  btc_n_transactions  \\\n",
       "0                       0.0                0.000122            0.000257   \n",
       "1                       0.0                0.000116            0.000239   \n",
       "2                       0.0                0.000070            0.000133   \n",
       "3                       0.0                0.000106            0.000216   \n",
       "4                       0.0                0.000101            0.000204   \n",
       "\n",
       "   btc_n_transactions_total  btc_n_transactions_excluding_popular  \\\n",
       "0              0.000000e+00                              0.000268   \n",
       "1              7.921859e-07                              0.000249   \n",
       "2              1.409080e-06                              0.000138   \n",
       "3              2.164184e-06                              0.000225   \n",
       "4              2.899063e-06                              0.000213   \n",
       "\n",
       "   btc_n_transactions_excluding_chains_longer_than_100  btc_output_volume  \\\n",
       "0                                           0.000395             0.001284   \n",
       "1                                           0.000367             0.000278   \n",
       "2                                           0.000204             0.000078   \n",
       "3                                           0.000333             0.000109   \n",
       "4                                           0.000314             0.000133   \n",
       "\n",
       "   btc_estimated_transaction_volume  btc_estimated_transaction_volume_usd  \n",
       "0                          0.006265                                   0.0  \n",
       "1                          0.001271                                   0.0  \n",
       "2                          0.000119                                   0.0  \n",
       "3                          0.000007                                   0.0  \n",
       "4                          0.000265                                   0.0  \n",
       "\n",
       "[5 rows x 23 columns]"
      ]
     },
     "execution_count": 11,
     "metadata": {},
     "output_type": "execute_result"
    }
   ],
   "source": [
    "data_imputed1.head()"
   ]
  },
  {
   "cell_type": "markdown",
   "metadata": {},
   "source": [
    "Visualizing behaviour of each variable with respect to the years"
   ]
  },
  {
   "cell_type": "code",
   "execution_count": 11,
   "metadata": {},
   "outputs": [
    {
     "data": {
      "image/png": "[encoded data removed]",
      "text/plain": [
       "<matplotlib.figure.Figure at 0x115524d30>"
      ]
     },
     "metadata": {},
     "output_type": "display_data"
    }
   ],
   "source": [
    "import matplotlib.pyplot as plt\n",
    "plt.plot(data['Date'], data['btc_n_transactions_total'])\n",
    "plt.show()"
   ]
  },
  {
   "cell_type": "code",
   "execution_count": 12,
   "metadata": {},
   "outputs": [
    {
     "data": {
      "image/png": "[encoded data removed]",
      "text/plain": [
       "<matplotlib.figure.Figure at 0x1a168d7a20>"
      ]
     },
     "metadata": {},
     "output_type": "display_data"
    }
   ],
   "source": [
    "plt.plot(data['Date'], data['btc_blocks_size'])\n",
    "plt.show()"
   ]
  },
  {
   "cell_type": "code",
   "execution_count": 13,
   "metadata": {},
   "outputs": [
    {
     "data": {
      "image/png": "[encoded data removed]",
      "text/plain": [
       "<matplotlib.figure.Figure at 0x11555d0f0>"
      ]
     },
     "metadata": {},
     "output_type": "display_data"
    }
   ],
   "source": [
    "plt.plot(data['Date'], data['btc_market_price'])\n",
    "plt.show()"
   ]
  },
  {
   "cell_type": "markdown",
   "metadata": {},
   "source": [
    "We can observe that their is a noticable increase in the value of variables from 2015.So, we will restrict our analysis to data from 2015."
   ]
  },
  {
   "cell_type": "markdown",
   "metadata": {},
   "source": [
    "we can observe the following from the above visualization:\n",
    "1. Outliers: we can see in 2016, there are two outliers in btc_median_confirmation_time and btc_transaction_fees, so we will remove those outliers \n",
    "2. Correlations: there can be correlation between the variables\n",
    "3. There is a linear relationship between \"btc_hash_rate\" and \"btc_difficulty\"\n",
    "4. The number of bitcoins dont have any relation with market value"
   ]
  },
  {
   "cell_type": "code",
   "execution_count": 14,
   "metadata": {
    "collapsed": true
   },
   "outputs": [],
   "source": [
    "X = data_imputed1.drop('btc_market_price',1).values\n",
    "y = data_imputed1['btc_market_price']"
   ]
  },
  {
   "cell_type": "markdown",
   "metadata": {},
   "source": [
    "Splitting dataset into test and train with 20% as the test size and random state as 10"
   ]
  },
  {
   "cell_type": "code",
   "execution_count": 15,
   "metadata": {
    "collapsed": true
   },
   "outputs": [],
   "source": [
    "from sklearn.model_selection import train_test_split\n",
    "X_train, X_test, y_train, y_test = train_test_split(X, y, test_size=0.2, random_state=10)"
   ]
  },
  {
   "cell_type": "markdown",
   "metadata": {},
   "source": [
    "Predicting the best regressor by calculating R squared values and cross validation scores of different regressions."
   ]
  },
  {
   "cell_type": "markdown",
   "metadata": {},
   "source": [
    "### Linear Regression"
   ]
  },
  {
   "cell_type": "code",
   "execution_count": 22,
   "metadata": {
    "collapsed": true
   },
   "outputs": [],
   "source": [
    "from sklearn.linear_model import LinearRegression\n",
    "model=LinearRegression()"
   ]
  },
  {
   "cell_type": "code",
   "execution_count": 23,
   "metadata": {},
   "outputs": [],
   "source": [
    "linreg=model.fit(X_train,y_train)"
   ]
  },
  {
   "cell_type": "code",
   "execution_count": 24,
   "metadata": {},
   "outputs": [
    {
     "name": "stdout",
     "output_type": "stream",
     "text": [
      "Residual sum of squares Train: 224.06\n",
      "Residual sum of squares Test: 224.82\n"
     ]
    }
   ],
   "source": [
    "print ('Residual sum of squares Train: %.2f' % np.mean((model.predict(X_train)- y_train) ** 2))\n",
    "print ('Residual sum of squares Test: %.2f' % np.mean((model.predict(X_test)- y_test) ** 2))"
   ]
  },
  {
   "cell_type": "code",
   "execution_count": 25,
   "metadata": {},
   "outputs": [
    {
     "name": "stdout",
     "output_type": "stream",
     "text": [
      "linear model coeff (w): [ -6.51482321e+01   1.87618523e+04   3.53289393e+01  -3.30874186e+03\n",
      "   2.46220465e+01  -5.02061803e+00  -3.53587102e+01   2.71837721e+01\n",
      "  -4.89086682e+02   2.14644905e+02   3.59189651e+02  -2.83485191e+02\n",
      "   2.85284492e+00   4.19890014e+02   1.31997913e+02   4.78644008e+01\n",
      "   3.44419869e+03  -2.34271168e+01   2.13056513e+01   6.27968112e+00\n",
      "   3.86304445e+00   1.17350870e+02]\n",
      "linear model intercept (b): -0.973\n",
      "R-squared score (training): 0.999961762\n",
      "R-squared score (test): 0.999926973\n"
     ]
    }
   ],
   "source": [
    "print('linear model coeff (w): {}'\n",
    "     .format(linreg.coef_))\n",
    "print('linear model intercept (b): {:.3f}'\n",
    "     .format(linreg.intercept_))\n",
    "print('R-squared score (training): {:.9f}'\n",
    "     .format(linreg.score(X_train, y_train)))\n",
    "print('R-squared score (test): {:.9f}'\n",
    "     .format(linreg.score(X_test, y_test)))"
   ]
  },
  {
   "cell_type": "code",
   "execution_count": 26,
   "metadata": {},
   "outputs": [
    {
     "name": "stdout",
     "output_type": "stream",
     "text": [
      "[ 0.99995414  0.99995759  0.99997575  0.99995483  0.99994322]\n",
      "[ 0.99991082  0.99992594  0.99984442  0.99985947  0.99994161]\n"
     ]
    }
   ],
   "source": [
    "from sklearn.model_selection import cross_val_score\n",
    "\n",
    "scores_train = cross_val_score(linreg, X_train, y_train, cv = 5)\n",
    "print(scores_train)\n",
    "scores_test = cross_val_score(linreg, X_test, y_test, cv = 5)\n",
    "print(scores_test)"
   ]
  },
  {
   "cell_type": "code",
   "execution_count": 23,
   "metadata": {},
   "outputs": [
    {
     "name": "stdout",
     "output_type": "stream",
     "text": [
      "Average cross-validation score for training set: 0.999957105\n",
      "Average cross-validation score for testing set: 0.999896451\n"
     ]
    }
   ],
   "source": [
    "print(\"Average cross-validation score for training set: {:.9f}\".format(scores_train.mean()))\n",
    "print(\"Average cross-validation score for testing set: {:.9f}\".format(scores_test.mean()))"
   ]
  },
  {
   "cell_type": "markdown",
   "metadata": {},
   "source": [
    "### Ridge regression"
   ]
  },
  {
   "cell_type": "code",
   "execution_count": 25,
   "metadata": {},
   "outputs": [
    {
     "data": {
      "text/plain": [
       "GridSearchCV(cv=5, error_score='raise',\n",
       "       estimator=Ridge(alpha=1.0, copy_X=True, fit_intercept=True, max_iter=None,\n",
       "   normalize=False, random_state=None, solver='auto', tol=0.001),\n",
       "       fit_params=None, iid=True, n_jobs=1,\n",
       "       param_grid={'alpha': [0.01, 0.1, 1, 10, 100]},\n",
       "       pre_dispatch='2*n_jobs', refit=True, return_train_score='warn',\n",
       "       scoring=None, verbose=0)"
      ]
     },
     "execution_count": 25,
     "metadata": {},
     "output_type": "execute_result"
    }
   ],
   "source": [
    "from sklearn.linear_model import Ridge\n",
    "\n",
    "from sklearn.model_selection import GridSearchCV\n",
    "linridge = Ridge()\n",
    "param_grid_ridge = {'alpha': [0.01, 0.1, 1, 10,100]}\n",
    "grid_search_ridge= GridSearchCV(linridge, param_grid_ridge, cv = 5)\n",
    "grid_search_ridge.fit(X_train, y_train)"
   ]
  },
  {
   "cell_type": "code",
   "execution_count": 26,
   "metadata": {},
   "outputs": [
    {
     "name": "stdout",
     "output_type": "stream",
     "text": [
      "Best parameter {'alpha': 0.01}\n",
      "Best score 0.9999246965077871\n"
     ]
    }
   ],
   "source": [
    "print('Best parameter {}'.format(grid_search_ridge.best_params_))\n",
    "print('Best score {}'.format(grid_search_ridge.best_score_))"
   ]
  },
  {
   "cell_type": "code",
   "execution_count": 27,
   "metadata": {},
   "outputs": [
    {
     "name": "stdout",
     "output_type": "stream",
     "text": [
      "ridge regression linear model intercept: -2.4339987133647583\n",
      "ridge regression linear model coeff:\n",
      "[ -4.17887310e+01   1.74497700e+04   3.06796145e+01  -1.82736901e+03\n",
      "  -1.02789301e+01  -5.70145618e-01  -6.22561799e+01   4.48488068e+01\n",
      "  -8.90017086e+02   8.65524084e+02   1.51873429e+03  -3.60871105e+02\n",
      "   4.62666278e+00   3.68899284e+02   8.17225076e+01   7.00384435e+01\n",
      "   1.96913665e+03  -1.48730445e+02   1.49874411e+02  -8.10973962e+00\n",
      "  -1.25234822e+01   2.97732233e+02]\n",
      "R-squared score (training): 0.999942870\n",
      "R-squared score (test): 0.999848006\n",
      "Number of non-zero features: 22\n"
     ]
    }
   ],
   "source": [
    "\n",
    "linridge = Ridge(alpha=0.01).fit(X_train, y_train)\n",
    "\n",
    "print('ridge regression linear model intercept: {}'\n",
    "     .format(linridge.intercept_))\n",
    "print('ridge regression linear model coeff:\\n{}'\n",
    "     .format(linridge.coef_))\n",
    "print('R-squared score (training): {:.9f}'\n",
    "     .format(linridge.score(X_train, y_train)))\n",
    "print('R-squared score (test): {:.9f}'\n",
    "     .format(linridge.score(X_test, y_test)))\n",
    "print('Number of non-zero features: {}'\n",
    "     .format(np.sum(linridge.coef_ != 0)))"
   ]
  },
  {
   "cell_type": "code",
   "execution_count": 28,
   "metadata": {},
   "outputs": [
    {
     "name": "stdout",
     "output_type": "stream",
     "text": [
      "[ 0.99991812  0.99992228  0.99993871  0.99992264  0.99992172]\n",
      "[ 0.99964035  0.99944995  0.99954771  0.99851572  0.9987237 ]\n"
     ]
    }
   ],
   "source": [
    "scores_linridge_train = cross_val_score(linridge, X_train, y_train, cv = 5)\n",
    "print(scores_linridge_train)\n",
    "scores_linridge_test = cross_val_score(linridge, X_test, y_test, cv = 5)\n",
    "print(scores_linridge_test)"
   ]
  },
  {
   "cell_type": "code",
   "execution_count": 29,
   "metadata": {},
   "outputs": [
    {
     "name": "stdout",
     "output_type": "stream",
     "text": [
      "Average cross-validation score for training set: 0.999924695\n",
      "Average cross-validation score for testing set: 0.999175486\n"
     ]
    }
   ],
   "source": [
    "print(\"Average cross-validation score for training set: {:.9f}\".format(scores_linridge_train.mean()))\n",
    "print(\"Average cross-validation score for testing set: {:.9f}\".format(scores_linridge_test.mean()))"
   ]
  },
  {
   "cell_type": "markdown",
   "metadata": {},
   "source": [
    "### Lasso regression"
   ]
  },
  {
   "cell_type": "code",
   "execution_count": 38,
   "metadata": {},
   "outputs": [
    {
     "data": {
      "text/plain": [
       "GridSearchCV(cv=5, error_score='raise',\n",
       "       estimator=Lasso(alpha=1.0, copy_X=True, fit_intercept=True, max_iter=1000,\n",
       "   normalize=False, positive=False, precompute=False, random_state=None,\n",
       "   selection='cyclic', tol=0.0001, warm_start=False),\n",
       "       fit_params=None, iid=True, n_jobs=1,\n",
       "       param_grid={'alpha': [0.001, 0.01, 0.5, 1, 2, 10, 100]},\n",
       "       pre_dispatch='2*n_jobs', refit=True, return_train_score='warn',\n",
       "       scoring=None, verbose=0)"
      ]
     },
     "execution_count": 38,
     "metadata": {},
     "output_type": "execute_result"
    }
   ],
   "source": [
    " from sklearn.linear_model import Lasso\n",
    "lasso = Lasso()\n",
    "param_lasso = {'alpha': [0.001,0.01,0.5,1,2,10,100]}\n",
    "lasso.fit(X_train, y_train)\n",
    "grid_search_lasso = GridSearchCV(lasso, param_lasso, cv =5)\n",
    "grid_search_lasso.fit(X_train,y_train)"
   ]
  },
  {
   "cell_type": "code",
   "execution_count": 39,
   "metadata": {},
   "outputs": [
    {
     "name": "stdout",
     "output_type": "stream",
     "text": [
      "Best parameter {'alpha': 0.01}\n",
      "Best score 0.9999316736525535\n"
     ]
    }
   ],
   "source": [
    "print('Best parameter {}'.format(grid_search_lasso.best_params_))\n",
    "print('Best score {}'.format(grid_search_lasso.best_score_))"
   ]
  },
  {
   "cell_type": "code",
   "execution_count": 40,
   "metadata": {},
   "outputs": [
    {
     "name": "stdout",
     "output_type": "stream",
     "text": [
      "BitCoin dataset\n",
      "lasso regression linear model intercept: -17.829079576258664\n",
      "lasso regression linear model coeff:\n",
      "[  2.54104587e+01   1.88102154e+04  -1.71614624e+01  -9.46440456e+00\n",
      "  -5.61091549e+01  -6.95360562e-02  -8.99158588e+01   3.94995509e+01\n",
      "  -4.80766322e+02   2.56130438e+02   1.71688120e+02  -1.15104644e+02\n",
      "   7.99959875e+00   5.02505415e+02   1.12363453e+02  -1.04072262e+02\n",
      "   5.70987785e+01   4.27562444e+01   1.97999913e+02  -3.87458218e+00\n",
      "  -1.97228068e+01   2.03483846e+02]\n",
      "Non-zero features: 22\n",
      "R-squared score (training): 0.9999381251879229\n",
      "R-squared score (test): 0.9998862930683665\n",
      "\n",
      "Features with non-zero weight (sorted by absolute magnitude):\n",
      "\t[  7.73936914e-04   0.00000000e+00   0.00000000e+00   0.00000000e+00\n",
      "   2.21401388e-05   0.00000000e+00   0.00000000e+00   0.00000000e+00\n",
      "   2.91535130e-13   0.00000000e+00   0.00000000e+00   0.00000000e+00\n",
      "   1.74240736e-03   0.00000000e+00   1.15590664e-04   2.38519467e-04\n",
      "   7.92185895e-07   2.48654714e-04   3.67026583e-04   2.77513153e-04\n",
      "   1.27140343e-03   0.00000000e+00], 18810.215\n",
      "\t[  8.70256574e-03   0.00000000e+00   0.00000000e+00   0.00000000e+00\n",
      "   2.85286922e-05   0.00000000e+00   0.00000000e+00   0.00000000e+00\n",
      "   6.61738470e-13   4.81522288e-13   0.00000000e+00   0.00000000e+00\n",
      "   4.25404821e-03   0.00000000e+00   8.66929977e-05   1.75322001e-04\n",
      "   8.85562700e-06   1.82771841e-04   2.69780223e-04   1.35910715e-04\n",
      "   4.45145706e-04   0.00000000e+00], 502.505\n",
      "\t[  5.70482756e-03   0.00000000e+00   0.00000000e+00   0.00000000e+00\n",
      "   9.52157487e-06   0.00000000e+00   0.00000000e+00   0.00000000e+00\n",
      "   2.45259712e-13   4.81522288e-13   0.00000000e+00   0.00000000e+00\n",
      "   1.19339608e-02   0.00000000e+00   3.72873108e-05   6.52360935e-05\n",
      "   5.79475554e-06   6.80081270e-05   1.00383339e-04   4.24041431e-05\n",
      "   1.18968752e-04   0.00000000e+00], -480.766\n",
      "\t[  6.27936588e-03   0.00000000e+00   0.00000000e+00   0.00000000e+00\n",
      "   9.21899237e-05   0.00000000e+00   0.00000000e+00   0.00000000e+00\n",
      "   4.39616466e-13   4.81522288e-13   0.00000000e+00   0.00000000e+00\n",
      "   7.27611927e-04   0.00000000e+00   6.15240629e-05   1.18240419e-04\n",
      "   6.38805221e-06   1.23264730e-04   1.81944802e-04   5.04478828e-04\n",
      "   2.25834622e-03   0.00000000e+00], 256.130\n",
      "\t[  1.30758162e-02   0.00000000e+00   0.00000000e+00   0.00000000e+00\n",
      "   1.41895787e-05   0.00000000e+00   0.00000000e+00   0.00000000e+00\n",
      "   5.13657134e-13   7.69605058e-13   0.00000000e+00   0.00000000e+00\n",
      "   6.22444171e-03   0.00000000e+00   4.00838592e-05   6.93133493e-05\n",
      "   1.33188360e-05   7.22586349e-05   1.06657298e-04   5.87134289e-05\n",
      "   2.30727277e-04   0.00000000e+00], 203.484\n",
      "\t[  1.16124333e-02   0.00000000e+00   0.00000000e+00   0.00000000e+00\n",
      "   7.07632274e-05   0.00000000e+00   0.00000000e+00   0.00000000e+00\n",
      "   4.62754174e-13   4.81522288e-13   0.00000000e+00   0.00000000e+00\n",
      "   1.29116227e-03   0.00000000e+00   6.24562457e-05   1.22317675e-04\n",
      "   1.18288524e-05   1.27515238e-04   1.88218760e-04   2.19631715e-04\n",
      "   1.29578087e-03   0.00000000e+00], 198.000\n",
      "\t[  6.86404311e-03   0.00000000e+00   0.00000000e+00   0.00000000e+00\n",
      "   6.37864443e-06   0.00000000e+00   0.00000000e+00   0.00000000e+00\n",
      "   4.62754174e-13   4.81522288e-13   0.00000000e+00   0.00000000e+00\n",
      "   2.17010009e-02   0.00000000e+00   6.15240629e-05   1.18240419e-04\n",
      "   6.98134888e-06   1.23264730e-04   1.81944802e-04   6.41716032e-05\n",
      "   7.60507318e-05   0.00000000e+00], 171.688\n",
      "\t[  7.41154433e-03   0.00000000e+00   0.00000000e+00   0.00000000e+00\n",
      "   6.76653375e-05   0.00000000e+00   0.00000000e+00   0.00000000e+00\n",
      "   3.70203340e-13   4.81522288e-13   0.00000000e+00   0.00000000e+00\n",
      "   1.74039669e-03   0.00000000e+00   5.12700524e-05   9.58155123e-05\n",
      "   7.53756451e-06   9.98869365e-05   1.47438029e-04   1.57634684e-04\n",
      "   9.00076720e-04   0.00000000e+00], -115.105\n",
      "\t[  9.20275204e-03   0.00000000e+00   0.00000000e+00   0.00000000e+00\n",
      "   3.41677706e-06   0.00000000e+00   0.00000000e+00   0.00000000e+00\n",
      "   2.45259712e-13   4.81522288e-13   0.00000000e+00   0.00000000e+00\n",
      "   3.34178649e-02   0.00000000e+00   3.72873108e-05   6.72747214e-05\n",
      "   9.36464857e-06   7.01333809e-05   1.03520318e-04   3.26185716e-05\n",
      "   4.17163157e-05   0.00000000e+00], 112.363\n",
      "\t[  9.81784601e-03   0.00000000e+00   0.00000000e+00   0.00000000e+00\n",
      "   7.15847673e-05   0.00000000e+00   0.00000000e+00   0.00000000e+00\n",
      "   5.41422384e-13   4.81522288e-13   0.00000000e+00   0.00000000e+00\n",
      "   9.95954580e-04   0.00000000e+00   7.17780734e-05   1.40665327e-04\n",
      "   9.99502629e-06   1.46642524e-04   2.16451574e-04   2.88130716e-04\n",
      "   1.76702073e-03   0.00000000e+00], -104.072\n",
      "\t[  4.56251019e-03   0.00000000e+00   0.00000000e+00   0.00000000e+00\n",
      "   0.00000000e+00   0.00000000e+00   0.00000000e+00   0.00000000e+00\n",
      "   4.16478757e-13   0.00000000e+00   0.00000000e+00   0.00000000e+00\n",
      "   2.83385992e-01   0.00000000e+00   1.32369954e-04   2.73176142e-04\n",
      "   4.62838823e-06   2.84784032e-04   4.20355232e-04   1.40259858e-04\n",
      "   7.38189948e-06   0.00000000e+00], -89.916\n",
      "\t[  1.04092825e-02   0.00000000e+00   0.00000000e+00   0.00000000e+00\n",
      "   2.24787537e-04   0.00000000e+00   0.00000000e+00   0.00000000e+00\n",
      "   4.81264341e-13   4.81522288e-13   0.00000000e+00   0.00000000e+00\n",
      "   5.14335676e-04   0.00000000e+00   6.33884284e-05   1.22317675e-04\n",
      "   1.05950650e-05   1.27515238e-04   1.88218760e-04   4.72969288e-04\n",
      "   3.28631865e-03   0.00000000e+00], 57.099\n",
      "\t[  2.85241378e-03   0.00000000e+00   0.00000000e+00   0.00000000e+00\n",
      "   1.58164439e-05   0.00000000e+00   0.00000000e+00   0.00000000e+00\n",
      "   2.03611837e-13   0.00000000e+00   0.00000000e+00   0.00000000e+00\n",
      "   7.77953363e-03   0.00000000e+00   1.00675739e-04   2.03862792e-04\n",
      "   2.89906327e-06   2.12525397e-04   3.13697934e-04   1.33014838e-04\n",
      "   2.65405037e-04   0.00000000e+00], -56.109\n",
      "\t[  1.10277561e-02   0.00000000e+00   0.00000000e+00   0.00000000e+00\n",
      "   5.29154542e-05   0.00000000e+00   0.00000000e+00   0.00000000e+00\n",
      "   5.50677468e-13   4.81522288e-13   0.00000000e+00   0.00000000e+00\n",
      "   4.35337784e-04   0.00000000e+00   7.17780734e-05   1.42703955e-04\n",
      "   1.12288137e-05   1.48767778e-04   2.19588554e-04   5.79466532e-04\n",
      "   4.05815632e-03   0.00000000e+00], 42.756\n",
      "\t[  5.20464126e-03   0.00000000e+00   0.00000000e+00   0.00000000e+00\n",
      "   5.89004441e-05   0.00000000e+00   0.00000000e+00   0.00000000e+00\n",
      "   6.10835510e-13   4.81522288e-13   0.00000000e+00   0.00000000e+00\n",
      "   2.02219871e-03   0.00000000e+00   7.92355356e-05   1.59012978e-04\n",
      "   5.28910497e-06   1.65769809e-04   2.44684389e-04   1.88100430e-04\n",
      "   9.08660324e-04   0.00000000e+00], 39.500\n",
      "\t[  0.00000000e+00   0.00000000e+00   0.00000000e+00   0.00000000e+00\n",
      "   1.66118602e-05   0.00000000e+00   0.00000000e+00   0.00000000e+00\n",
      "   3.10045297e-13   0.00000000e+00   0.00000000e+00   0.00000000e+00\n",
      "   3.57277068e-04   0.00000000e+00   1.22115943e-04   2.56867118e-04\n",
      "   0.00000000e+00   2.67782000e-04   3.95259397e-04   1.28350013e-03\n",
      "   6.26482925e-03   0.00000000e+00], 25.410\n",
      "\t[  1.25722503e-02   0.00000000e+00   0.00000000e+00   0.00000000e+00\n",
      "   5.50855085e-05   0.00000000e+00   0.00000000e+00   0.00000000e+00\n",
      "   4.99774508e-13   7.69605058e-13   0.00000000e+00   0.00000000e+00\n",
      "   2.08717142e-03   0.00000000e+00   3.63551281e-05   6.31974656e-05\n",
      "   1.28064435e-05   6.58828730e-05   9.72463595e-05   1.14165001e-04\n",
      "   6.85486619e-04   0.00000000e+00], -19.723\n",
      "\t[  1.37889197e-03   0.00000000e+00   0.00000000e+00   0.00000000e+00\n",
      "   1.02818596e-05   0.00000000e+00   0.00000000e+00   0.00000000e+00\n",
      "   0.00000000e+00   0.00000000e+00   0.00000000e+00   0.00000000e+00\n",
      "   1.44333460e-02   0.00000000e+00   6.99137078e-05   1.32510815e-04\n",
      "   1.40907959e-06   1.38141508e-04   2.03903657e-04   7.82841369e-05\n",
      "   1.18968752e-04   0.00000000e+00], -17.161\n",
      "\t[  2.12917142e-03   0.00000000e+00   0.00000000e+00   0.00000000e+00\n",
      "   1.83225007e-06   0.00000000e+00   0.00000000e+00   0.00000000e+00\n",
      "   2.49887254e-13   0.00000000e+00   0.00000000e+00   0.00000000e+00\n",
      "   2.50493709e-01   0.00000000e+00   1.06268836e-04   2.16094560e-04\n",
      "   2.16418444e-06   2.25276921e-04   3.32519810e-04   1.08729224e-04\n",
      "   7.38189948e-06   0.00000000e+00], -9.464\n",
      "\t[  8.04015685e-03   0.00000000e+00   0.00000000e+00   0.00000000e+00\n",
      "   1.07115465e-05   0.00000000e+00   0.00000000e+00   0.00000000e+00\n",
      "   5.78442718e-13   4.81522288e-13   0.00000000e+00   0.00000000e+00\n",
      "   1.04984747e-02   0.00000000e+00   7.17780734e-05   1.40665327e-04\n",
      "   8.16794222e-06   1.46642524e-04   2.16451574e-04   9.02447147e-05\n",
      "   1.70470376e-04   0.00000000e+00], 8.000\n",
      "\t[  1.20720640e-02   0.00000000e+00   0.00000000e+00   0.00000000e+00\n",
      "   1.38522249e-04   0.00000000e+00   0.00000000e+00   0.00000000e+00\n",
      "   3.74830881e-13   7.69605058e-13   0.00000000e+00   0.00000000e+00\n",
      "   8.50504805e-04   0.00000000e+00   3.07620314e-05   4.68884422e-05\n",
      "   1.23041639e-05   4.88808413e-05   7.21505248e-05   2.10828615e-04\n",
      "   1.54573542e-03   0.00000000e+00], -3.875\n",
      "\t[  3.71422126e-03   0.00000000e+00   0.00000000e+00   0.00000000e+00\n",
      "   1.50999386e-04   0.00000000e+00   0.00000000e+00   0.00000000e+00\n",
      "   4.39616466e-13   0.00000000e+00   0.00000000e+00   0.00000000e+00\n",
      "   7.34747382e-04   0.00000000e+00   1.41691781e-04   2.91523793e-04\n",
      "   3.77889527e-06   3.03911317e-04   4.48588046e-04   5.69737717e-04\n",
      "   3.35515915e-03   0.00000000e+00], -0.070\n"
     ]
    }
   ],
   "source": [
    "\n",
    "linlasso = Lasso(alpha=0.01, max_iter = 10000).fit(X_train, y_train)\n",
    "\n",
    "print('BitCoin dataset')\n",
    "print('lasso regression linear model intercept: {}'\n",
    "     .format(linlasso.intercept_))\n",
    "print('lasso regression linear model coeff:\\n{}'\n",
    "     .format(linlasso.coef_))\n",
    "print('Non-zero features: {}'\n",
    "     .format(np.sum(linlasso.coef_ != 0)))\n",
    "print('R-squared score (training): {}'\n",
    "     .format(linlasso.score(X_train, y_train)))\n",
    "print('R-squared score (test): {}\\n'\n",
    "     .format(linlasso.score(X_test, y_test)))\n",
    "print('Features with non-zero weight (sorted by absolute magnitude):')\n",
    "\n",
    "for e in sorted (list(zip(list(X), linlasso.coef_)),\n",
    "                key = lambda e: -abs(e[1])):\n",
    "    if e[1] != 0:\n",
    "        print('\\t{}, {:.3f}'.format(e[0], e[1]))\n"
   ]
  },
  {
   "cell_type": "code",
   "execution_count": 41,
   "metadata": {},
   "outputs": [
    {
     "name": "stdout",
     "output_type": "stream",
     "text": [
      "[ 0.99992283  0.9999393   0.99995732  0.99993141  0.99990746]\n",
      "[ 0.99987431  0.99988796  0.99979324  0.99982036  0.99993387]\n"
     ]
    }
   ],
   "source": [
    "scores_linlasso_train = cross_val_score(linlasso, X_train, y_train, cv = 5)\n",
    "print(scores_linlasso_train)\n",
    "\n",
    "scores_linlasso_test = cross_val_score(linlasso, X_test, y_test, cv = 5)\n",
    "print(scores_linlasso_test)"
   ]
  },
  {
   "cell_type": "code",
   "execution_count": 42,
   "metadata": {},
   "outputs": [
    {
     "name": "stdout",
     "output_type": "stream",
     "text": [
      "Average cross-validation score for training set: 0.999931663\n",
      "Average cross-validation score for testing set: 0.999861948\n"
     ]
    }
   ],
   "source": [
    "print(\"Average cross-validation score for training set: {:.9f}\".format(scores_linlasso_train.mean()))\n",
    "print(\"Average cross-validation score for testing set: {:.9f}\".format(scores_linlasso_test.mean()))"
   ]
  },
  {
   "cell_type": "markdown",
   "metadata": {},
   "source": [
    "### Polynomial regression"
   ]
  },
  {
   "cell_type": "code",
   "execution_count": 35,
   "metadata": {},
   "outputs": [
    {
     "name": "stdout",
     "output_type": "stream",
     "text": [
      "linear model coeff (w): [ -6.51482321e+01   1.87618523e+04   3.53289393e+01  -3.30874186e+03\n",
      "   2.46220465e+01  -5.02061803e+00  -3.53587102e+01   2.71837721e+01\n",
      "  -4.89086682e+02   2.14644905e+02   3.59189651e+02  -2.83485191e+02\n",
      "   2.85284492e+00   4.19890014e+02   1.31997913e+02   4.78644008e+01\n",
      "   3.44419869e+03  -2.34271168e+01   2.13056513e+01   6.27968112e+00\n",
      "   3.86304445e+00   1.17350870e+02]\n",
      "linear model intercept (b): -0.973449155\n",
      "R-squared score (training): 0.999961762\n",
      "R-squared score (test): 0.999926973\n",
      "\n",
      "Now we transform the original input data to add\n",
      "polynomial features up to degree 2 (quadratic)\n",
      "\n",
      "(poly deg 2) linear model coeff (w):\n",
      "[  1.72485735e-02  -5.40128517e+00   4.61324677e+04  -3.37541666e+03\n",
      "   1.14522245e+03   7.24294037e+01   1.70572015e+02   4.05414621e+01\n",
      "   2.17084665e+01   2.90512110e+03  -7.74164895e+03   1.34767426e+03\n",
      "   3.05814624e+02   1.60578067e+01   3.94060368e+03  -3.63122151e+02\n",
      "  -1.70285060e+02  -1.49359341e+03   2.02420909e+02   1.90549960e+02\n",
      "   1.65163688e+02   8.85417879e+01  -1.73007564e+06   8.41257774e+00\n",
      "  -2.77345163e+04   5.07192755e+03  -3.73448424e+03  -4.03837019e+01\n",
      "  -2.56763209e+02  -9.41591535e+01  -3.47661022e+01  -4.93389496e+03\n",
      "   1.08621859e+04   5.05331379e+02  -4.51906869e+02  -2.91614429e+03\n",
      "  -3.05308423e+02   5.96029274e+02   1.77031510e+02   4.21931443e+03\n",
      "  -2.19229600e+02  -3.23420533e+02  -4.01337593e+02  -3.25573896e+02\n",
      "  -1.06721921e+06  -5.29663526e+03   1.36196523e+03  -4.57437060e+04\n",
      "   7.90385562e+02   2.01407356e+02  -9.88793069e+02  -1.27578141e+03\n",
      "  -4.22824370e+03   3.17917281e+03   1.23189847e+04  -1.35917132e+03\n",
      "  -1.40301533e+07  -7.14226034e+02   8.72381380e+02   1.73951688e+03\n",
      "   4.94861241e+04   6.84821978e+02  -1.11446536e+03  -4.35628357e+03\n",
      "   2.37058867e+07  -3.01161819e+03  -8.91720889e+01  -6.28606804e+03\n",
      "  -2.35648428e+02  -4.79276376e+02  -9.54163186e+02   1.25394398e+02\n",
      "  -6.66190474e+02   9.59726957e+02  -9.43761869e+02   4.56768263e+02\n",
      "   3.94401154e+06  -5.22292982e+02  -1.67791189e+03   4.30292725e+03\n",
      "   4.59956186e+03  -2.43776826e+03   2.20812988e+01   9.12273031e+02\n",
      "   1.66542310e+03   5.14438716e+02  -5.38894667e+04   1.52147526e+03\n",
      "  -7.14181476e+01  -1.44607839e+03   1.29932038e+03  -1.27972401e+04\n",
      "   1.05087518e+04   7.52408811e+04  -4.55601786e+03  -4.67682206e+06\n",
      "  -4.89354457e+03   1.28700984e+03   2.26327194e+03   1.12202208e+05\n",
      "   1.13739933e+03  -8.67133851e+02  -7.55888026e+03  -1.13868866e+04\n",
      "  -2.37459493e+04  -1.99484167e+01   9.94709887e+00   2.83098232e+01\n",
      "   4.71434064e+01   2.66641341e+02  -3.41818849e+02  -9.98361380e+02\n",
      "  -7.23890986e+01  -5.30715644e+05   1.91314431e+02  -2.19158078e+02\n",
      "  -3.44642478e+01  -1.63704817e+03   1.83245225e+02   7.44095405e+00\n",
      "   1.86322934e+02   9.69275393e+01   5.13107423e+02  -8.72586882e-02\n",
      "  -5.14299927e+00   3.53130003e+00   2.51780753e+02  -1.64949675e+02\n",
      "   6.12443275e+02  -1.68043367e+02   1.97927629e+04  -1.45199979e+02\n",
      "   4.98659017e+01   3.99821140e+01   2.36418167e+02  -1.21184025e+02\n",
      "  -1.91028724e+01   7.98447134e+01   2.42828023e+02  -5.62515672e+02\n",
      "   3.65519992e+00   5.76272637e+01  -2.30447575e+01   1.78861547e+02\n",
      "  -5.37472198e+02  -4.64180702e+01  -1.32514030e+04   9.87751526e+01\n",
      "   1.19945879e+02  -2.19158913e+02   1.62518292e+03   1.02068986e+02\n",
      "  -1.00595553e+02  -6.02947936e+01  -8.50994484e+01   1.42445983e+03\n",
      "  -1.53498583e+01  -2.91213666e+02   5.97699079e+02   1.06369429e+03\n",
      "  -1.16514633e+02   1.07728087e+04   2.80483376e+01  -2.16691038e+02\n",
      "   8.50926726e+01  -1.34316310e+03  -8.17471660e+01   9.43934331e+01\n",
      "   1.84907705e+01   7.30233024e+00   7.06196609e+01  -1.11974491e+03\n",
      "   1.12777544e+03   4.56709382e+03  -4.95001804e+02  -7.26112992e+06\n",
      "   1.09697113e+01  -8.56965523e+01  -1.74009445e+02   1.63566260e+04\n",
      "   1.30100285e+03  -5.33291400e+02  -1.52085953e+03  -2.00645681e+03\n",
      "  -9.48965343e+02   2.54343024e+01  -3.12831189e+03   4.61938310e+02\n",
      "   7.17120292e+06  -1.13468856e+02   3.65477387e+02  -2.63726738e+02\n",
      "  -1.49073009e+04  -1.51184687e+03   4.36554455e+02   2.05730676e+03\n",
      "   2.60717221e+03   2.25315561e+02  -7.22381909e+03   3.23694057e+03\n",
      "   5.29202040e+06   9.96259963e+02  -7.69175013e+02  -1.27890393e+03\n",
      "  -7.96356689e+04   6.04460779e+02   9.17109805e+02   5.29639981e+03\n",
      "   1.88322729e+04   2.63657532e+03  -1.37795151e+02  -6.89974490e+05\n",
      "  -6.53707554e+02   6.11346172e+02  -4.16146903e+02   5.23733674e+03\n",
      "   2.11642149e+02  -2.68743164e+02  -5.55614019e+02   1.10075141e+02\n",
      "  -1.76092963e+03  -5.51898202e+01  -7.60484820e+04   1.32456446e+06\n",
      "  -3.10790269e+03   4.78645493e+06  -1.73927787e+05  -3.22235604e+05\n",
      "   1.06254916e+04  -4.63412431e+05  -1.02782655e+12  -4.03861001e+01\n",
      "  -5.77079980e+01   1.59771443e+07   5.08261535e+03  -1.38427803e+02\n",
      "   6.12257060e+01  -7.68592536e+02  -4.67724366e+02   3.49839843e+02\n",
      "  -9.54504549e+01  -7.02153798e+02  -1.92281103e+03   5.82519332e+02\n",
      "   2.64554429e+02   2.08386197e+02   2.78018304e+03   6.95384110e+02\n",
      "   9.10765188e+02  -2.05725269e+03  -6.59119854e+02  -2.26794250e+02\n",
      "  -1.16570915e+02  -1.37113846e+03  -2.06839295e+03  -5.85624193e+04\n",
      "  -1.30779574e+03   1.13478458e+03   7.87702202e+03   1.27298055e+04\n",
      "   2.70618494e+04  -7.35903831e+00   9.98605488e+01   4.77756833e+01\n",
      "  -1.02334819e+03   2.19727565e+02   2.24300423e+01  -1.90672388e+02\n",
      "  -1.60900494e+02   8.29729835e+01   3.80320679e+00   4.30762115e+01\n",
      "  -6.67710467e+02  -2.77253258e+00  -5.88243386e+02   1.53575687e+01]\n",
      "(poly deg 2) linear model intercept (b): 0.588914781\n",
      "(poly deg 2) R-squared score (training): 0.999997899\n",
      "(poly deg 2) R-squared score (test): 0.999993606\n",
      "\n",
      "\n",
      "Addition of many polynomial features often leads to\n",
      "overfitting, so we often use polynomial features in combination\n",
      "with regression that has a regularization penalty, like ridge\n",
      "regression.\n",
      "\n",
      "(poly deg 2 + ridge) linear model coeff (w):\n",
      "[  0.00000000e+00  -9.15432220e+01   1.35139261e+03   9.43761619e+01\n",
      "  -1.09110130e+02   2.71137318e+02   3.89183623e+01  -7.19825075e+01\n",
      "   2.85818714e+01  -1.37460812e+02   2.75515899e+02   6.30493489e+02\n",
      "  -5.15409716e+01   8.21154554e+00   5.29915615e+02   6.60435576e+01\n",
      "   1.15954239e+02  -5.05201894e+01   4.48491959e+01   2.60840653e+01\n",
      "  -2.66718777e+01  -1.54523211e+01   3.26425935e+02   1.12547618e+02\n",
      "   1.30451684e+03   7.53607615e+01  -1.31231387e+02   2.26474870e+01\n",
      "   4.43400830e+00  -1.03352962e+02   8.06606052e+01  -1.21988715e+02\n",
      "   2.87299452e+02   5.82607259e+02  -4.39103337e+01  -5.01081878e-02\n",
      "   7.61403849e+02  -1.74236192e+01  -1.45048666e+01  -8.47572015e+01\n",
      "  -6.72310798e+01  -3.92800527e+01   1.92179638e+00  -5.76525187e+01\n",
      "   2.83144119e+02   6.32850658e+02   8.25526298e+01   1.12533636e+03\n",
      "   1.14202998e+03   4.29556553e+00   1.03114364e+03   2.74484184e+02\n",
      "   1.58443045e+02   3.82058420e+02   2.19642228e+02  -1.36458315e+02\n",
      "   1.45744922e-02   3.76797975e+02   6.05062715e+02   6.95708431e+02\n",
      "   1.12435641e+03   6.76871593e+02   7.42847219e+02   6.62998740e+01\n",
      "   1.47044395e+01   1.28208613e+02  -1.11115097e+01   2.14629469e+01\n",
      "   4.11710423e+01   3.71082302e+00   7.05065768e+01  -3.58560971e+01\n",
      "  -1.51201587e+02  -1.06629340e+02  -4.92031437e+01  -1.91956303e+02\n",
      "   2.23141517e-03  -9.58395728e+00  -3.07380309e+01   1.06948688e+01\n",
      "   2.07903600e+01   4.18542453e+00   4.03181184e+00   5.24387512e+00\n",
      "  -1.05424183e+01  -5.77722765e+01   2.79071113e+02  -2.83256994e+01\n",
      "  -4.75628737e+01   2.46380254e+02  -4.28048753e+01  -2.73442636e+01\n",
      "   3.63727061e+02   4.38928006e+02  -9.07913032e+01  -6.37161826e-03\n",
      "   6.48286798e+02   3.39311238e+01  -1.89896347e+01   2.85669024e+02\n",
      "  -4.39616014e+01   8.64745444e+01  -3.27714234e+01  -1.23143498e+02\n",
      "   1.77654196e+02  -1.66756980e+02   2.55237644e+01   3.59743531e+00\n",
      "   9.84200937e+00  -1.13929677e+02   2.67923077e+02   4.68980813e+02\n",
      "  -8.67728628e+01  -5.92189112e-03   7.61571491e+02  -4.32370730e+01\n",
      "  -8.66958921e+01  -6.89214066e+00  -1.12434018e+02  -3.99855114e+01\n",
      "   5.62202537e+00  -1.03319436e+02   2.03720982e+02  -2.96929605e+01\n",
      "  -4.65020825e+01   3.14403764e+01  -1.08930598e+01  -1.06888834e+01\n",
      "  -1.92797812e+00   8.60950369e+00  -1.81971663e-02  -3.10647966e+01\n",
      "  -3.26152776e+00   2.69752810e+01  -4.44066996e+01   3.27882135e+01\n",
      "   7.79486336e+00   1.30597532e+01   7.42780604e+00   7.99161137e+00\n",
      "   6.80428118e+01  -9.93859133e+00   1.54323014e+02   4.54401988e+02\n",
      "   4.44218788e+02  -5.84901794e+01  -2.25699774e-02   6.62454627e+02\n",
      "   1.25183079e+01  -4.88297499e+01   2.59771474e+02  -6.57347001e+01\n",
      "   2.44337009e+01  -9.27525464e+00  -9.11547922e+01   2.34205753e+02\n",
      "  -6.50540088e+01  -8.70840030e+01   2.86509848e+01   9.97724009e+01\n",
      "  -2.79545203e+01  -3.71039337e-02   2.24719077e+02  -2.90942515e+01\n",
      "  -2.51748583e+01  -3.19578330e+01  -2.71766975e+01  -2.22358801e+01\n",
      "  -1.14408579e+00  -1.55930767e+01   1.11479740e+01  -4.62746069e+02\n",
      "  -2.55048381e+02  -1.81527925e+02  -3.21543588e+02   1.31436150e-03\n",
      "  -1.40417644e+02  -1.25252642e+02  -5.52229058e+01  -3.09860985e+01\n",
      "  -7.47179702e+01   1.83255337e-01  -1.02863261e+01  -5.60616466e+01\n",
      "  -2.32972870e+02   1.45118650e+01  -2.40715145e+01  -2.39891030e+02\n",
      "   6.55114408e-03   8.09238359e+01   9.03756629e+01   1.38688124e+02\n",
      "   3.60506922e+02   1.20853409e+02   2.15551948e+02   5.72362644e+00\n",
      "  -4.81452239e+01  -1.11399231e+02  -9.70622227e+01  -2.90180344e+02\n",
      "   1.12357521e-03   2.10656005e+01   1.44415199e+02   2.53571389e+02\n",
      "   4.38649497e+02   2.36853661e+02   2.82209520e+02   3.25113396e+01\n",
      "  -4.23011308e+00  -1.49855646e+02  -1.84748625e+02  -5.65835459e-03\n",
      "  -1.78710389e+02  -2.10367758e+02  -1.31784141e+02  -9.12312225e+01\n",
      "  -1.35220270e+02  -8.95946777e+01  -1.02306075e+01  -2.07065572e+01\n",
      "  -3.12970627e+02   1.90285519e+00  -9.24363970e-02  -1.51633516e-02\n",
      "  -9.19618778e-03  -7.33218990e-03  -9.40984137e-03  -1.12019461e-02\n",
      "  -1.01501376e-02  -5.49124635e-03   6.34705970e-03  -1.01419224e+01\n",
      "   3.25840355e+02   4.40533882e+02   6.51344936e+02   4.18756484e+02\n",
      "   4.65600763e+02   5.21042013e+01   1.13640064e+01  -2.06784720e+01\n",
      "  -7.17926161e+01  -5.36434289e+01   4.34993529e+01  -7.37269809e+01\n",
      "  -7.51828518e+00   8.31031046e+00  -6.13192555e+01  -1.85273040e+00\n",
      "  -4.89299196e+01  -6.21491534e+00  -7.17358081e+01  -2.61893182e+01\n",
      "   8.27311798e+00  -6.18145510e+01   7.77810216e+01   2.92905180e+02\n",
      "  -3.27754056e+01   9.74003752e+01  -3.13764838e+01  -1.19893049e+02\n",
      "   1.76624458e+02  -7.98675872e+01  -4.27630120e+01   5.35049459e+00\n",
      "  -6.56170283e+01   6.44005602e+01   1.90813542e+01  -4.54146706e+00\n",
      "  -6.92559109e+01   1.05099308e+02   1.47157726e+01   5.93378181e+00\n",
      "   1.24781303e+01   4.37275099e+01  -2.17076127e+01  -1.96742756e+02]\n",
      "(poly deg 2 + ridge) linear model intercept (b): -9.538415039\n",
      "(poly deg 2 + ridge) R-squared score (training): 0.999404740\n",
      "(poly deg 2 + ridge) R-squared score (test): 0.999016231\n"
     ]
    }
   ],
   "source": [
    "from sklearn.preprocessing import PolynomialFeatures\n",
    "\n",
    "linreg = LinearRegression().fit(X_train, y_train)\n",
    "\n",
    "print('linear model coeff (w): {}'\n",
    "     .format(linreg.coef_))\n",
    "print('linear model intercept (b): {:.9f}'\n",
    "     .format(linreg.intercept_))\n",
    "print('R-squared score (training): {:.9f}'\n",
    "     .format(linreg.score(X_train, y_train)))\n",
    "print('R-squared score (test): {:.9f}'\n",
    "     .format(linreg.score(X_test, y_test)))\n",
    "\n",
    "print('\\nNow we transform the original input data to add\\n\\\n",
    "polynomial features up to degree 2 (quadratic)\\n')\n",
    "poly = PolynomialFeatures(degree=2)\n",
    "X_F1_poly = poly.fit_transform(X)\n",
    "\n",
    "X_train, X_test, y_train, y_test = train_test_split(X_F1_poly, y,\n",
    "                                                   random_state = 10)\n",
    "linreg = LinearRegression().fit(X_train, y_train)\n",
    "\n",
    "print('(poly deg 2) linear model coeff (w):\\n{}'\n",
    "     .format(linreg.coef_))\n",
    "print('(poly deg 2) linear model intercept (b): {:.9f}'\n",
    "     .format(linreg.intercept_))\n",
    "print('(poly deg 2) R-squared score (training): {:.9f}'\n",
    "     .format(linreg.score(X_train, y_train)))\n",
    "print('(poly deg 2) R-squared score (test): {:.9f}\\n'\n",
    "     .format(linreg.score(X_test, y_test)))\n",
    "\n",
    "print('\\nAddition of many polynomial features often leads to\\n\\\n",
    "overfitting, so we often use polynomial features in combination\\n\\\n",
    "with regression that has a regularization penalty, like ridge\\n\\\n",
    "regression.\\n')\n",
    "\n",
    "X_train, X_test, y_train, y_test = train_test_split(X_F1_poly, y,\n",
    "                                                   random_state = 10)\n",
    "linreg = Ridge().fit(X_train, y_train)\n",
    "\n",
    "print('(poly deg 2 + ridge) linear model coeff (w):\\n{}'\n",
    "     .format(linreg.coef_))\n",
    "print('(poly deg 2 + ridge) linear model intercept (b): {:.9f}'\n",
    "     .format(linreg.intercept_))\n",
    "print('(poly deg 2 + ridge) R-squared score (training): {:.9f}'\n",
    "     .format(linreg.score(X_train, y_train)))\n",
    "print('(poly deg 2 + ridge) R-squared score (test): {:.9f}'\n",
    "     .format(linreg.score(X_test, y_test)))"
   ]
  },
  {
   "cell_type": "code",
   "execution_count": 36,
   "metadata": {},
   "outputs": [
    {
     "name": "stdout",
     "output_type": "stream",
     "text": [
      "[ 0.99861118  0.99934177  0.99908155  0.99917938  0.99924046]\n",
      "[ 0.99782165  0.995437    0.9921634   0.99501908  0.99121043]\n"
     ]
    }
   ],
   "source": [
    "scores_linreg_train = cross_val_score(linreg, X_train, y_train, cv = 5)\n",
    "print(scores_linreg_train)\n",
    "\n",
    "scores_linreg_test = cross_val_score(linreg, X_test, y_test, cv = 5)\n",
    "print(scores_linreg_test)"
   ]
  },
  {
   "cell_type": "code",
   "execution_count": 37,
   "metadata": {},
   "outputs": [
    {
     "name": "stdout",
     "output_type": "stream",
     "text": [
      "Average cross-validation score for training set: 0.999090870\n",
      "Average cross-validation score for testing set: 0.994330311\n"
     ]
    }
   ],
   "source": [
    "print(\"Average cross-validation score for training set: {:.9f}\".format(scores_linreg_train.mean()))\n",
    "print(\"Average cross-validation score for testing set: {:.9f}\".format(scores_linreg_test.mean()))"
   ]
  },
  {
   "cell_type": "markdown",
   "metadata": {},
   "source": [
    "# Support Vector Machine"
   ]
  },
  {
   "cell_type": "markdown",
   "metadata": {},
   "source": [
    "### Linear SVM: using both C and epsilon parameter"
   ]
  },
  {
   "cell_type": "code",
   "execution_count": 39,
   "metadata": {},
   "outputs": [
    {
     "data": {
      "text/plain": [
       "GridSearchCV(cv=5, error_score='raise',\n",
       "       estimator=SVR(C=1.0, cache_size=200, coef0=0.0, degree=3, epsilon=0.1, gamma='auto',\n",
       "  kernel='linear', max_iter=-1, shrinking=True, tol=0.001, verbose=False),\n",
       "       fit_params=None, iid=True, n_jobs=1,\n",
       "       param_grid={'C': [0.01, 0.1, 1, 10, 100]}, pre_dispatch='2*n_jobs',\n",
       "       refit=True, return_train_score='warn', scoring=None, verbose=0)"
      ]
     },
     "execution_count": 39,
     "metadata": {},
     "output_type": "execute_result"
    }
   ],
   "source": [
    "from sklearn.svm import SVR\n",
    "\n",
    "param_grid = {'C': [0.01, 0.1, 1, 10,100]}\n",
    "svr = SVR(kernel='linear')\n",
    "grid_search = GridSearchCV(svr, param_grid, cv = 5)\n",
    "grid_search.fit(X_train, y_train)"
   ]
  },
  {
   "cell_type": "code",
   "execution_count": 40,
   "metadata": {},
   "outputs": [
    {
     "name": "stdout",
     "output_type": "stream",
     "text": [
      "Linear SVR R-squared score (training): 0.998425970\n",
      "Linear SVR R-squared score (test): 0.996723958\n"
     ]
    }
   ],
   "source": [
    "svr = SVR(kernel='linear', C=100)\n",
    "svr.fit(X_train, y_train)\n",
    "print('Linear SVR R-squared score (training): {:.9f}'\n",
    "     .format(svr.score(X_train, y_train)))\n",
    "print('Linear SVR R-squared score (test): {:.9f}'\n",
    "     .format(svr.score(X_test, y_test)))"
   ]
  },
  {
   "cell_type": "code",
   "execution_count": 41,
   "metadata": {},
   "outputs": [
    {
     "name": "stdout",
     "output_type": "stream",
     "text": [
      "[ 0.99592539  0.9984082   0.99701269  0.99783096  0.99787434]\n",
      "[ 0.99486067  0.98789549  0.98706764  0.98382706  0.97201294]\n"
     ]
    }
   ],
   "source": [
    "scores_svr_train = cross_val_score(svr, X_train, y_train, cv = 5)\n",
    "print(scores_svr_train)\n",
    "scores_svr_test = cross_val_score(svr, X_test, y_test, cv = 5)\n",
    "print(scores_svr_test)"
   ]
  },
  {
   "cell_type": "code",
   "execution_count": 42,
   "metadata": {},
   "outputs": [
    {
     "name": "stdout",
     "output_type": "stream",
     "text": [
      "Average cross-validation score for training set: 0.997410316\n",
      "Average cross-validation score for testing set: 0.985132762\n"
     ]
    }
   ],
   "source": [
    "print(\"Average cross-validation score for training set: {:.9f}\".format(scores_svr_train.mean()))\n",
    "print(\"Average cross-validation score for testing set: {:.9f}\".format(scores_svr_test.mean()))"
   ]
  },
  {
   "cell_type": "markdown",
   "metadata": {},
   "source": [
    "### Kernelized SVM: with RBF kernel"
   ]
  },
  {
   "cell_type": "code",
   "execution_count": 16,
   "metadata": {},
   "outputs": [],
   "source": [
    "from sklearn.svm import SVR\n",
    "from sklearn.model_selection import GridSearchCV\n",
    "\n",
    "svr = SVR(kernel = 'rbf')\n",
    "param_grid_kernel = {'C': [ 0.01, 0.1, 1, 10,100], \n",
    "            'gamma': [0.001,0.01, 0.1, 1],\n",
    "            'epsilon': [0.001,0.01, 0.1, 1], }"
   ]
  },
  {
   "cell_type": "code",
   "execution_count": 17,
   "metadata": {},
   "outputs": [
    {
     "data": {
      "text/plain": [
       "GridSearchCV(cv=5, error_score='raise',\n",
       "       estimator=SVR(C=1.0, cache_size=200, coef0=0.0, degree=3, epsilon=0.1, gamma='auto',\n",
       "  kernel='rbf', max_iter=-1, shrinking=True, tol=0.001, verbose=False),\n",
       "       fit_params=None, iid=True, n_jobs=1,\n",
       "       param_grid={'C': [0.01, 0.1, 1, 10, 100], 'gamma': [0.001, 0.01, 0.1, 1], 'epsilon': [0.001, 0.01, 0.1, 1]},\n",
       "       pre_dispatch='2*n_jobs', refit=True, return_train_score='warn',\n",
       "       scoring=None, verbose=0)"
      ]
     },
     "execution_count": 17,
     "metadata": {},
     "output_type": "execute_result"
    }
   ],
   "source": [
    "grid_search_kernel = GridSearchCV(svr, param_grid_kernel, cv = 5)\n",
    "grid_search_kernel.fit(X_train, y_train)"
   ]
  },
  {
   "cell_type": "code",
   "execution_count": 18,
   "metadata": {},
   "outputs": [
    {
     "name": "stdout",
     "output_type": "stream",
     "text": [
      "Best parameter {'C': 100, 'epsilon': 1, 'gamma': 1}\n",
      "Best score 0.7134240479215957\n"
     ]
    }
   ],
   "source": [
    "print('Best parameter {}'.format(grid_search_kernel.best_params_))\n",
    "print('Best score {}'.format(grid_search_kernel.best_score_))"
   ]
  },
  {
   "cell_type": "code",
   "execution_count": 19,
   "metadata": {},
   "outputs": [
    {
     "name": "stdout",
     "output_type": "stream",
     "text": [
      "Kernelized SVR R-squared score (training): 0.761553951\n",
      "Kernelized SVR R-squared score (test): 0.833118794\n"
     ]
    }
   ],
   "source": [
    "clf=SVR(kernel = 'rbf',C=100,epsilon=1,gamma=1)\n",
    "clf.fit(X_train, y_train)\n",
    "print('Kernelized SVR R-squared score (training): {:.9f}'\n",
    "     .format(clf.score(X_train, y_train)))\n",
    "print('Kernelized SVR R-squared score (test): {:.9f}'\n",
    "     .format(clf.score(X_test, y_test)))"
   ]
  },
  {
   "cell_type": "code",
   "execution_count": 27,
   "metadata": {},
   "outputs": [
    {
     "name": "stdout",
     "output_type": "stream",
     "text": [
      "[ 0.76814257  0.74509607  0.5865445   0.7158382   0.75158096]\n",
      "[ 0.40841352  0.26879278  0.34397212  0.66614152  0.29870886]\n"
     ]
    }
   ],
   "source": [
    "scores_clf_train = cross_val_score(clf, X_train, y_train, cv = 5)\n",
    "print(scores_clf_train)\n",
    "scores_clf_test = cross_val_score(clf, X_test, y_test, cv = 5)\n",
    "print(scores_clf_test)"
   ]
  },
  {
   "cell_type": "code",
   "execution_count": 28,
   "metadata": {},
   "outputs": [
    {
     "name": "stdout",
     "output_type": "stream",
     "text": [
      "Average cross-validation score for training set: 0.713440459\n",
      "Average cross-validation score for testing set: 0.397205761\n"
     ]
    }
   ],
   "source": [
    "print(\"Average cross-validation score for training set: {:.9f}\".format(scores_clf_train.mean()))\n",
    "print(\"Average cross-validation score for testing set: {:.9f}\".format(scores_clf_test.mean()))"
   ]
  },
  {
   "cell_type": "markdown",
   "metadata": {},
   "source": [
    "# K-Nearest Neighbors"
   ]
  },
  {
   "cell_type": "code",
   "execution_count": 29,
   "metadata": {},
   "outputs": [
    {
     "data": {
      "text/plain": [
       "GridSearchCV(cv=5, error_score='raise',\n",
       "       estimator=KNeighborsRegressor(algorithm='auto', leaf_size=30, metric='minkowski',\n",
       "          metric_params=None, n_jobs=1, n_neighbors=5, p=2,\n",
       "          weights='uniform'),\n",
       "       fit_params=None, iid=True, n_jobs=1,\n",
       "       param_grid={'n_neighbors': [1, 2, 3, 5, 7, 15, 55]},\n",
       "       pre_dispatch='2*n_jobs', refit=True, return_train_score='warn',\n",
       "       scoring=None, verbose=0)"
      ]
     },
     "execution_count": 29,
     "metadata": {},
     "output_type": "execute_result"
    }
   ],
   "source": [
    "from sklearn.neighbors import KNeighborsRegressor\n",
    "knnreg = KNeighborsRegressor()\n",
    "knn_grid = {'n_neighbors':[1,2, 3,5, 7, 15, 55]}\n",
    "grid_search_knn = GridSearchCV(knnreg, knn_grid, cv = 5)\n",
    "grid_search_knn.fit(X_train, y_train)"
   ]
  },
  {
   "cell_type": "code",
   "execution_count": 30,
   "metadata": {},
   "outputs": [
    {
     "name": "stdout",
     "output_type": "stream",
     "text": [
      "Best parameter {'n_neighbors': 2}\n",
      "Best score 0.9934420556088099\n"
     ]
    }
   ],
   "source": [
    "print('Best parameter {}'.format(grid_search_knn.best_params_))\n",
    "print('Best score {}'.format(grid_search_knn.best_score_))"
   ]
  },
  {
   "cell_type": "code",
   "execution_count": 31,
   "metadata": {},
   "outputs": [
    {
     "name": "stdout",
     "output_type": "stream",
     "text": [
      "[  1.17979122e+03   6.37990000e-02   6.01601000e+00   3.52845543e+03\n",
      "   7.99823000e-01   2.42255000e+02   0.00000000e+00   4.34030000e+02\n",
      "   1.03905000e+02   7.78635531e+02   5.18750000e+00   2.82990000e-01\n",
      "   9.98650000e+01   4.28500000e+02   2.63005000e-01   4.89457500e+00\n",
      "   8.62495000e+00   1.12720010e+02   6.09153125e+02   8.20350000e+00\n",
      "   1.27487642e+04   4.99000000e+00   6.29885000e+02   2.86149500e-01\n",
      "   5.77690825e+02   2.48205000e+02   5.79907500e+00   5.69776306e+02\n",
      "   4.81500000e+00   8.31075812e+02   4.64400000e+02   2.73575257e+03\n",
      "   6.62675000e+00   7.51200000e-01   2.30210000e+02   5.57494452e+03\n",
      "   2.30365000e+02   9.88900000e+01   8.09658000e+00   2.25915000e+02\n",
      "   2.50000000e-01   1.01916015e+02   2.41575000e+02   8.18700000e+00\n",
      "   1.50395000e+01   4.36870000e+02   1.08495000e+00   5.78705476e+02\n",
      "   1.31800505e+02   2.32970000e+02   1.31294955e+02   3.27025000e+02\n",
      "   7.75875000e+02   0.00000000e+00   6.67995000e-02   5.36000000e+00\n",
      "   1.11499495e+02   7.59000000e-02   2.32455000e+02   4.71935000e+02\n",
      "   1.12550000e+01   6.15078344e+02   5.58333500e+00   1.02749950e+01\n",
      "   2.81795000e+02   1.08786242e+04   1.37550000e+02   6.23430000e+02\n",
      "   1.05000000e+01   6.12247150e+02   1.12000000e-01   0.00000000e+00\n",
      "   1.37305000e+01   8.41585000e+02   1.28899950e+01   5.91936109e+02\n",
      "   2.81001000e+00   0.00000000e+00   4.53000000e+00   4.72009050e+01\n",
      "   5.12204500e+00   4.19115000e+02   9.14415500e-01   6.63481269e+03\n",
      "   4.87943000e+00   6.40749500e+00   1.13801167e+03   5.38185000e+02\n",
      "   9.11403706e+02   1.12999850e+01   1.75550050e+01   5.35265000e+02\n",
      "   0.00000000e+00   1.36590000e+02   3.13999000e-01   2.30130000e+02\n",
      "   2.33500000e+00   9.97852744e+02   4.57000000e+00   2.57640000e+02\n",
      "   2.81716150e+01   6.47595237e+02   6.29995000e-02   3.59745000e+02\n",
      "   2.66440000e+02   4.53910000e+02   5.18750000e+00   1.08495000e+00\n",
      "   3.27740000e+02   1.16790000e+02   3.31165000e+02   5.45560000e+02\n",
      "   2.51580000e+02   5.78705476e+02   1.18190000e+01   8.04210000e+02\n",
      "   7.36419125e+02   0.00000000e+00   8.06550000e+02   2.40815000e+02\n",
      "   1.50000000e+01   7.90300000e+02   6.13245000e+02   6.26000000e-02\n",
      "   4.21310000e+02   4.01518000e+00   2.89865000e+02   1.09000000e+01\n",
      "   5.83999500e+00   1.20301475e+02   6.03995000e+02   5.16875000e+00\n",
      "   1.40650000e+01   4.50290000e+02   3.62575000e+02   8.30230000e+02\n",
      "   6.63626990e+02   1.11205845e+03   2.54877824e+03   2.35485279e+03\n",
      "   8.97055500e+00   1.13798000e+01   2.56870000e+02   6.18995000e+02\n",
      "   2.48075000e+02   3.35230000e+02   4.20105000e+02   7.58185625e+02\n",
      "   7.67650000e-01   1.37650495e+01   6.31910000e+02   6.77525000e+02\n",
      "   7.82005000e+02   6.24945000e-02   1.22945010e+02   2.75295000e+02\n",
      "   0.00000000e+00   1.16749850e+01   5.54272325e+02   2.93935000e+02\n",
      "   3.71135000e+02   1.20369500e+01   4.35035000e+02   5.68000000e+02\n",
      "   9.37049231e+02   6.26500000e-02   1.12000000e-01   7.00277500e+00\n",
      "   9.10000000e-01   1.06968190e+03   2.32650000e+02   0.00000000e+00\n",
      "   2.63744266e+03   9.18122625e+02   1.05000000e+00   0.00000000e+00\n",
      "   2.73865000e+02   3.87880000e+02   5.19340000e+02   6.60244919e+02\n",
      "   4.10468064e+03   1.26309970e+02   0.00000000e+00   4.13945000e+02\n",
      "   2.55235000e-01   4.58505000e+02   4.02875000e+02   2.63295000e+02\n",
      "   2.33320000e+02   1.22500010e+02   2.36575000e+02   5.90780000e+02\n",
      "   7.21981125e+02   7.07375000e+00   7.35865409e+03   4.20380000e+02\n",
      "   8.37470000e+02   4.89040000e+02   5.03945500e+00   6.17400000e+00\n",
      "   4.13340000e+02   2.69665000e+02   1.32555950e+01   1.60168542e+04\n",
      "   1.09534243e+03   5.14000000e+00   6.60244919e+02   2.34325000e+02\n",
      "   1.20894350e+01   4.44795000e+02   5.16500000e+00   0.00000000e+00\n",
      "   2.88265000e+02   3.73995000e+02   2.56738850e+01   5.15770000e+00\n",
      "   6.11703450e+02   1.09134258e+04   5.04855000e+02   8.42817863e+03\n",
      "   3.63850000e+02   3.74515000e+02   2.79525000e+02   6.07380000e+02\n",
      "   6.29345000e+02   1.14860000e+02   1.23050000e+01   1.25300000e+02\n",
      "   2.46245000e+02   3.56415000e+02   1.16050000e+01   2.87975000e+02\n",
      "   6.27014703e+02   1.15130150e+01   6.42445500e+00   1.12895550e+01\n",
      "   1.54709034e+03   8.86750000e+00   2.56735000e+02   2.85139950e+01\n",
      "   4.15465000e+02   3.94170000e+02   6.09226250e+02   1.06750000e+01\n",
      "   1.25645713e+04   1.05019000e+00   6.59500000e-02   1.70449000e+01\n",
      "   1.95249950e+01   9.13950500e-01   3.18400000e-01   6.29950000e+00\n",
      "   4.25025000e+02   2.45485000e+02   3.88295000e+02   4.73420000e+02\n",
      "   1.23207500e+01   3.07675000e+02   1.12895550e+01   0.00000000e+00\n",
      "   1.84994495e+02   4.05025652e+03   0.00000000e+00   7.34225931e+02\n",
      "   1.26790740e+04   3.89500000e-01   6.44975000e+02   1.50944500e+01\n",
      "   4.50420000e+02   1.84046250e+01   1.10380000e+02   3.54490000e+00\n",
      "   5.87400211e+02   5.11875000e+00   1.14081015e+02   0.00000000e+00\n",
      "   1.25065000e+02   5.44944919e+02   4.07980000e+02   3.81300000e+02\n",
      "   1.26239970e+02   5.69907500e+00   7.90420219e+02   1.02245000e+03\n",
      "   6.78499950e+01   9.94439000e+00   9.49001500e+00   4.25000000e-01\n",
      "   2.58915000e+02   1.05933325e+02   1.21555000e+02   0.00000000e+00\n",
      "   3.44935000e+02   2.59956632e+03   4.15468500e+00   5.81801663e+02\n",
      "   4.85600722e+03   7.26991113e+02   0.00000000e+00   2.31922401e+03\n",
      "   2.51180000e+02   7.04937506e+02   4.15665000e+02   1.28037469e+03\n",
      "   4.18129450e+01   8.53990000e+01   1.28494900e+02   0.00000000e+00\n",
      "   2.40045779e+03   4.53000000e+00   6.04753669e+02   0.00000000e+00\n",
      "   4.15468500e+00   4.86000000e+00   0.00000000e+00   6.09226250e+02\n",
      "   4.52245000e+02   4.02875000e+02   4.15915000e+02   9.18690000e+02\n",
      "   5.41425000e+02   7.15920112e+02   4.10468064e+03   0.00000000e+00\n",
      "   2.59950000e+02   6.29170000e+02   5.77690825e+02   5.19000000e+00\n",
      "   8.25235000e+02   1.26551990e+02   2.42000000e+02   1.26455000e+02\n",
      "   6.81524500e+00   5.62500000e+02   1.03808500e+03   6.53045000e+02\n",
      "   8.66640562e+02   9.69237400e+01   9.18950000e-01   2.38730000e+02\n",
      "   2.93400000e+02   5.28450000e+02   5.67500000e+02   0.00000000e+00\n",
      "   1.52749900e+01   3.73600450e+01   1.52640000e+01   5.06177000e+00\n",
      "   4.20710000e+02   1.36100000e+01   2.44129674e+03   4.88997500e+00\n",
      "   5.77480000e+02   6.10115850e+02   3.90440000e+02   7.70499500e+00\n",
      "   3.95315000e+02   1.14939900e+02   0.00000000e+00   5.09485000e+02\n",
      "   8.14425500e+02   7.57423563e+02   3.30655000e+02   4.52540000e+02\n",
      "   3.17500000e+00   6.12845000e+02   0.00000000e+00   2.09715150e+01\n",
      "   4.24913738e+03   7.25395000e+02   3.82065000e+02   3.69180000e+02\n",
      "   2.51500000e-01   1.20749900e+01   8.74918700e+01   0.00000000e+00\n",
      "   8.08340000e+00   3.10000000e+00   8.85844500e+00   2.98753766e+03\n",
      "   1.67560005e+02   6.09945000e+02   6.78197312e+02   0.00000000e+00\n",
      "   4.27287702e+03   2.84985000e+02   1.88390972e+03   2.60445000e+02\n",
      "   2.46940000e+02   5.96484844e+02   2.36095000e+02   3.17095000e+02\n",
      "   6.32543800e+02   1.05700000e-01   6.65500000e-02   4.12180000e+02\n",
      "   5.11949000e+00   1.04700000e-01   5.90780000e+02   5.35355000e+02\n",
      "   3.59000000e+00   4.45700000e+02   2.45575000e+02   0.00000000e+00\n",
      "   2.30365000e+02   8.74302681e+02   1.14589500e+01   5.99078800e+02\n",
      "   6.65500000e-02   7.11450000e+00   6.40750000e+00   0.00000000e+00\n",
      "   3.38013000e+00   2.60445000e+02   2.38420000e+02   6.12215000e+02\n",
      "   4.79872679e+03   9.61339119e+02   7.44701812e+02   7.23245000e+02\n",
      "   7.85000000e+02   2.19845000e+02   2.49810426e+03   4.34025000e+02\n",
      "   2.32400000e+02   3.55125000e+02   2.88001000e+00   3.63850000e+02\n",
      "   3.14000000e+00   4.29172917e+03   1.11754847e+03   0.00000000e+00\n",
      "   2.45285000e+02   1.12000000e-01   0.00000000e+00   4.21045000e+02\n",
      "   1.25273285e+02   5.95691443e+02   1.26309970e+02   6.07250000e+01\n",
      "   4.34545000e+02   2.29499950e+01   1.31007500e+01   5.11920000e+02\n",
      "   4.38355000e+02   2.57450000e+02   2.38020000e+02   5.11949000e+00\n",
      "   7.09339586e+03   2.85995000e-01   0.00000000e+00   9.86826800e+01\n",
      "   2.25685000e+02   4.44500000e-01   6.21150100e+02   4.36870000e+02\n",
      "   1.23820000e+02   5.04205000e+00   8.41585000e+02   6.01245000e+02\n",
      "   3.77145000e-01   1.06719492e+03   1.38349384e+03   5.94410000e+02\n",
      "   2.25400000e-01   0.00000000e+00   2.33295000e+02   5.35355000e+02\n",
      "   1.09495000e+00   1.07509500e+00   4.29443640e+03   8.57799869e+02\n",
      "   0.00000000e+00   0.00000000e+00   5.64265000e+02   5.13750000e+00\n",
      "   2.27590000e+02   0.00000000e+00   1.01397375e+02   3.88415000e+02\n",
      "   8.95835000e+01   1.35249500e+01   5.92160000e+02   1.21099500e+00\n",
      "   1.16254850e+01   1.13901813e+03   1.04679675e+02   8.46123000e+00\n",
      "   5.16124937e+02   1.08495000e+00   4.51410000e+02   1.03198000e+02\n",
      "   6.11703450e+02   8.25328757e+03   5.63250000e+00   7.59000000e-02\n",
      "   2.45420000e+02   2.33325000e+02   6.19476506e+02   1.50661275e+04\n",
      "   8.86750000e+00   1.20900000e+01   1.15183853e+03   1.29015000e+02\n",
      "   3.84980000e+02   1.49568042e+04   2.45575000e+02   2.17700000e-01\n",
      "   1.14494500e+00   2.55000000e-01   0.00000000e+00   6.20995000e-02\n",
      "   4.03795000e+02   4.63000000e-01   4.15320000e+02   0.00000000e+00\n",
      "   4.49755000e+02   5.28585000e+02   1.30745000e+01   2.35185000e+02\n",
      "   9.20723000e+01   1.36194000e+01   0.00000000e+00   0.00000000e+00\n",
      "   2.83949500e+00   1.08944150e+01   2.32895000e+02   1.21555000e+02\n",
      "   3.81010000e+02   8.88499000e+00   5.12204500e+00   1.61750000e+01\n",
      "   6.24995000e-02   4.97168000e+00   5.11304500e+00   7.27492200e+01\n",
      "   8.08654538e+02   3.56435000e+02   0.00000000e+00   2.99035000e+02\n",
      "   4.28440000e+02   1.17838600e+01   0.00000000e+00   0.00000000e+00\n",
      "   2.32440000e+02   6.12660681e+02   1.12965050e+01   4.30975000e+02\n",
      "   1.14373991e+03   4.95625000e+00   9.10000000e-01   3.85775000e+02\n",
      "   1.32850000e+01   0.00000000e+00   5.12600000e+00   5.79158639e+03\n",
      "   8.13545000e+02   0.00000000e+00   3.71760000e+02   3.06009650e+01\n",
      "   3.85369810e+03   1.00754031e+03   1.14570000e+01   1.19764650e+01\n",
      "   0.00000000e+00   1.13798000e+01   0.00000000e+00   2.77290671e+03\n",
      "   1.15135000e+01   1.12004750e+01   4.20227202e+03   1.14860000e+02\n",
      "   2.47500000e+00   3.25050000e+02   0.00000000e+00   5.87690000e+02\n",
      "   4.41423875e+03   1.24155000e+02   3.96675000e+02   2.73763528e+03\n",
      "   1.22945010e+02   6.13232342e+02]\n",
      "KNN R-squared test score: 0.9929846774582359\n",
      "KNN SVR R-squared score (training): 0.998666185\n"
     ]
    }
   ],
   "source": [
    "from sklearn.neighbors import KNeighborsRegressor\n",
    "knnreg = KNeighborsRegressor(n_neighbors = 2).fit(X_train, y_train)\n",
    "\n",
    "print(knnreg.predict(X_test))\n",
    "print('KNN R-squared test score: {}'\n",
    "     .format(knnreg.score(X_test, y_test)))\n",
    "print('KNN SVR R-squared score (training): {:.9f}'\n",
    "     .format(knnreg.score(X_train, y_train)))"
   ]
  },
  {
   "cell_type": "code",
   "execution_count": 32,
   "metadata": {},
   "outputs": [
    {
     "name": "stdout",
     "output_type": "stream",
     "text": [
      "[ 0.99437636  0.99014461  0.99462821  0.99536189  0.99269761]\n",
      "[ 0.97499175  0.99079344  0.99335187  0.93979779  0.96271426]\n"
     ]
    }
   ],
   "source": [
    "scores_knnreg_train = cross_val_score(knnreg, X_train, y_train, cv = 5)\n",
    "print(scores_knnreg_train)\n",
    "scores_knnreg_test = cross_val_score(knnreg, X_test, y_test, cv = 5)\n",
    "print(scores_knnreg_test)"
   ]
  },
  {
   "cell_type": "code",
   "execution_count": 33,
   "metadata": {
    "scrolled": true
   },
   "outputs": [
    {
     "name": "stdout",
     "output_type": "stream",
     "text": [
      "Average cross-validation score for training set: 0.993441735\n",
      "Average cross-validation score for testing set: 0.972329821\n"
     ]
    }
   ],
   "source": [
    "print(\"Average cross-validation score for training set: {:.9f}\".format(scores_knnreg_train.mean()))\n",
    "print(\"Average cross-validation score for testing set: {:.9f}\".format(scores_knnreg_test.mean()))"
   ]
  },
  {
   "cell_type": "markdown",
   "metadata": {},
   "source": [
    "### Chosing the best model:  Lasso (based on average cross-validation score)"
   ]
  },
  {
   "cell_type": "code",
   "execution_count": 45,
   "metadata": {
    "collapsed": true
   },
   "outputs": [],
   "source": [
    "X1 = data_imputed.drop('btc_market_price',1).values\n",
    "y1 = data_imputed['btc_market_price']"
   ]
  },
  {
   "cell_type": "code",
   "execution_count": 51,
   "metadata": {},
   "outputs": [],
   "source": [
    "test = test.drop('Date',1).values"
   ]
  },
  {
   "cell_type": "code",
   "execution_count": 52,
   "metadata": {},
   "outputs": [],
   "source": [
    "linlasso1 = Lasso(alpha=0.01, max_iter = 10000).fit(X1, y1)"
   ]
  },
  {
   "cell_type": "code",
   "execution_count": 53,
   "metadata": {
    "collapsed": true
   },
   "outputs": [],
   "source": [
    "y_predict=linlasso1.predict(test)"
   ]
  },
  {
   "cell_type": "code",
   "execution_count": 54,
   "metadata": {},
   "outputs": [
    {
     "name": "stdout",
     "output_type": "stream",
     "text": [
      "[  3.57812835e+15   3.52099919e+15   3.57655782e+15   3.36240245e+15\n",
      "   2.86699364e+15   3.13740982e+15   3.34051321e+15   3.38544153e+15\n",
      "   3.47937772e+15   3.41103824e+15   3.41877475e+15   3.56789682e+15\n",
      "   3.50035860e+15   3.73484858e+15]\n"
     ]
    }
   ],
   "source": [
    "print(y_predict)"
   ]
  },
  {
   "cell_type": "code",
   "execution_count": null,
   "metadata": {
    "collapsed": true
   },
   "outputs": [],
   "source": []
  }
 ],
 "metadata": {
  "kernelspec": {
   "display_name": "Python 3",
   "language": "python",
   "name": "python3"
  },
  "language_info": {
   "codemirror_mode": {
    "name": "ipython",
    "version": 3
   },
   "file_extension": ".py",
   "mimetype": "text/x-python",
   "name": "python",
   "nbconvert_exporter": "python",
   "pygments_lexer": "ipython3",
   "version": "3.6.3"
  }
 },
 "nbformat": 4,
 "nbformat_minor": 2
}
